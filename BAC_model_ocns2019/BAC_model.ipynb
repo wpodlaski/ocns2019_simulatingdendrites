{
 "cells": [
  {
   "cell_type": "markdown",
   "metadata": {},
   "source": [
    "## OCNS 2019, Simulating dendrites at different levels of abstraction.\n",
    "## Exercise 3: Coincidence detection in the apical tree through calcium spike.\n",
    "### In this exercise we will see how coincident inputs at the dendrite and soma produce a supralinear response.\n",
    "#### This exercise is based on Schaefer et al. 2003 (https://www.physiology.org/doi/full/10.1152/jn.00046.2003), with code modified from ModelDB (https://senselab.med.yale.edu/modeldb/showmodel.cshtml?model=83344&file=%2FBACFiring%2FBACModel.hoc#tabs-1)"
   ]
  },
  {
   "cell_type": "code",
   "execution_count": null,
   "metadata": {
    "collapsed": false
   },
   "outputs": [],
   "source": [
    "%%bash\n",
    "nrnivmodl # Compile NEURON model"
   ]
  },
  {
   "cell_type": "code",
   "execution_count": null,
   "metadata": {
    "collapsed": false
   },
   "outputs": [],
   "source": [
    "from neuron import h, gui\n",
    "import matplotlib.pyplot as plt\n",
    "% matplotlib inline\n",
    "\n",
    "h.tstop=1100\n",
    "h.steps_per_ms = 40\n",
    "h.dt = 0.025"
   ]
  },
  {
   "cell_type": "code",
   "execution_count": null,
   "metadata": {
    "collapsed": false
   },
   "outputs": [],
   "source": [
    "h.xopen(\"morphology.nrn\")\n",
    "h.xopen(\"Model_specification.hoc\")"
   ]
  },
  {
   "cell_type": "code",
   "execution_count": null,
   "metadata": {
    "collapsed": false
   },
   "outputs": [],
   "source": [
    "for sec in h.allsec() :\n",
    "    if(h.nseg < h.L/20) : \n",
    "            h.nseg=int(h.L/20+1 )\n",
    "\n",
    "h.create_axon() \n",
    "h.init_cell()"
   ]
  },
  {
   "cell_type": "code",
   "execution_count": null,
   "metadata": {
    "collapsed": false
   },
   "outputs": [],
   "source": [
    "#Create a current Clamp procedure called \"IatSoma\" starting at 1005.1 ms and with duration=5ms. Amplitude is an argument.     \n",
    "ic=h.IClamp(h.somaA(0.5))\n",
    "ic.delay=1005.1   #ms\n",
    "ic.dur=5   #ms\n",
    "ic.amp=1.8  #nA"
   ]
  },
  {
   "cell_type": "code",
   "execution_count": null,
   "metadata": {
    "collapsed": true
   },
   "outputs": [],
   "source": [
    "#Include an EPSP\n",
    "# EPSP : f(t) = (1-exp(-t/chi1)) * exp(-t/chi2) \n",
    "#       mit chi1 = 0.5 -2 ms und chi2 = 2-8 ms\n",
    "syn =h.epsp(h.mbSec.sec(0))\n",
    "   \n",
    "syn.tau0 = 0.8   \n",
    "syn.tau1 = 4     \n",
    "syn.onset = 1007.1  \n",
    "syn.imax = 0.6"
   ]
  },
  {
   "cell_type": "code",
   "execution_count": null,
   "metadata": {
    "collapsed": false
   },
   "outputs": [],
   "source": [
    "vsoma_vec = h.Vector()        # Membrane potential vector\n",
    "vdend1_vec = h.Vector()        # Membrane potential vector\n",
    "t_vec = h.Vector()        # Time stamp vector\n",
    "vsoma_vec.record(h.somaA(0.5)._ref_v)\n",
    "vdend1_vec.record(h.mbSec.sec(0.5)._ref_v)\n",
    "t_vec.record(h._ref_t)"
   ]
  },
  {
   "cell_type": "code",
   "execution_count": null,
   "metadata": {
    "collapsed": false
   },
   "outputs": [],
   "source": [
    "sh1 = h.PlotShape(0)\n",
    "sh1.size(-386.7,313.3,-150.382,1048.64)\n",
    "sh1.variable(\"v\")\n",
    "{sh1.view(-386.7, -150.382, 700, 1199.02, 331, 30, 325, 570)}\n",
    "h.fast_flush_list.append(sh1)\n",
    "sh1.save_name(\"fast_flush_list.\")\n",
    "sh1.show(1)\n",
    "sh1.exec_menu(\"Shape Plot\")\n",
    "\n",
    "sh2= h.PlotShape(0)\n",
    "sh2.size(-792.112,571.207,-154.611,1031.33)\n",
    "sh2.variable(\"cai\")\n",
    "{sh2.view(-792.112, -154.611, 1363.32, 1185.94, 5, 340, 300, 260)}\n",
    "h.fast_flush_list.append(sh2)\n",
    "sh2.save_name(\"fast_flush_list.\")\n",
    "sh2.show(1)\n",
    "sh2.exec_menu(\"Shape Plot\")\n",
    "sh2.scale(0,3)\n"
   ]
  },
  {
   "cell_type": "code",
   "execution_count": null,
   "metadata": {
    "collapsed": false
   },
   "outputs": [],
   "source": [
    "h.init()\n",
    "h.run()\n",
    "\n",
    "vsoma_vec.remove(0,200)\n",
    "vdend1_vec.remove(0,200)\n",
    "t_vec.remove(0,200)\n",
    "plt.figure(figsize=(8,4)) # Default figsize is (8,6)\n",
    "soma_plot = plt.plot(t_vec, vsoma_vec, color='black')\n",
    "dend_plot = plt.plot(t_vec, vdend1_vec, color='red')\n",
    "plt.legend(soma_plot + dend_plot, ['soma', 'dend'])\n",
    "plt.xlabel('time (ms)')\n",
    "plt.ylabel('mV')"
   ]
  },
  {
   "cell_type": "code",
   "execution_count": null,
   "metadata": {
    "collapsed": true
   },
   "outputs": [],
   "source": []
  }
 ],
 "metadata": {
  "anaconda-cloud": {},
  "kernelspec": {
   "display_name": "Python [Root]",
   "language": "python",
   "name": "Python [Root]"
  },
  "language_info": {
   "codemirror_mode": {
    "name": "ipython",
    "version": 2
   },
   "file_extension": ".py",
   "mimetype": "text/x-python",
   "name": "python",
   "nbconvert_exporter": "python",
   "pygments_lexer": "ipython2",
   "version": "2.7.6"
  }
 },
 "nbformat": 4,
 "nbformat_minor": 2
}

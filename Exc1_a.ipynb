{
 "cells": [
  {
   "cell_type": "markdown",
   "metadata": {},
   "source": [
    "## OCNS 2019, Simulating dendrites at different levels of abstraction.\n",
    "## Exercise 1a: How inputs propagate to the soma and how inputs interact.\n",
    "### In this exercise we will see (i) how inputs attenuate towards the soma, and (ii) how inputs integrate in a dendritic branch. "
   ]
  },
  {
   "cell_type": "code",
   "execution_count": null,
   "metadata": {
    "collapsed": true
   },
   "outputs": [],
   "source": [
    "# -*- coding: utf-8 -*-\n",
    "from neuron import h, gui\n",
    "from matplotlib import pyplot as plt\n",
    "% matplotlib inline\n",
    "\n",
    "#Simulation parameters\t\n",
    "h.tstop = 100               # ms\n",
    "h.dt = 0.1                  # ms\n",
    "h.steps_per_ms = 10         # For plotting-should be compartible with dt\n",
    "h.v_init = -65              # initial membrane potential\n",
    "fs = 14                     # font size for plots"
   ]
  },
  {
   "cell_type": "markdown",
   "metadata": {},
   "source": [
    "### Create a soma and two dendrites, define their anatomical and biophysical properties and connect them."
   ]
  },
  {
   "cell_type": "code",
   "execution_count": null,
   "metadata": {
    "collapsed": false
   },
   "outputs": [],
   "source": [
    "# create three compartments using the command h.Section()\n",
    "soma = h.Section(name='soma')\n",
    "dend0, dend1 = [h.Section(name=n) for n in ['dend0', 'dend1']]\n",
    "\n",
    "# Define properties of soma\n",
    "soma.diam = 20         # um (micro-meter)\n",
    "soma.L = 200           # um\n",
    "soma.Ra = 100          # axial resistance in Ohm * cm\n",
    "soma.cm = 1            # specific membrane capacitance, capacitance per unit of membrane, uF/cm^2   \n",
    "soma.nseg = 1          # number of segments (spatial grid)\n",
    "\n",
    "# Insert Hodgkin-Huxley channels (including leak)\n",
    "soma.insert('hh')\n",
    "for seg in soma: \n",
    "    seg.hh.gnabar = 0.12   # Sodium conductance in S/cm2\n",
    "    seg.hh.gkbar = 0.036   # Potassium conductance in S/cm2\n",
    "    seg.hh.gl = 0.0003     # Leak conductance in S/cm2\n",
    "    seg.hh.el = -65        # Reversal potential in mV\n",
    "\n",
    "# Define properties of first dendritic compartment (dend0)\n",
    "dend0.diam = 5\n",
    "dend0.L = 500\n",
    "dend0.nseg=11\n",
    "dend0.cm = 1\n",
    "dend0.Ra = 100\n",
    "\n",
    "# Insert passive (leak) channels (the dendrites have no active conductances for now)\n",
    "dend0.insert('pas')      \n",
    "for seg in dend0:\n",
    "    seg.pas.e= -65        # Reversal potential in mV\n",
    "    seg.pas.g= 0.0003     # Leak conductance in S/cm2\n",
    "\n",
    "# Define properties of second dendritic compartment (dend1)\n",
    "dend1.diam = 3\n",
    "dend1.L = 200\n",
    "dend1.nseg=13\n",
    "dend1.cm = 1\n",
    "dend1.Ra = 100\n",
    "\n",
    "#Insert passive (leak) channels again\n",
    "dend1.insert('pas')     \n",
    "for seg in dend1:\n",
    "    seg.pas.e= -65\n",
    "    seg.pas.g= 0.0003\n",
    "\n",
    "# Connect the three compartments together\n",
    "dend0.connect(soma(0),0)    # 0 point of dendrite 0 to the zero point of the soma     \n",
    "dend1.connect(dend0(1),0)   # 0 point of dendrite 1 to the zero point of dendrite 0"
   ]
  },
  {
   "cell_type": "markdown",
   "metadata": {},
   "source": [
    "### Synaptic Stimulation"
   ]
  },
  {
   "cell_type": "code",
   "execution_count": null,
   "metadata": {
    "collapsed": true
   },
   "outputs": [],
   "source": [
    "Syn=h.ExpSyn(soma(0.5))     # Place the synapse to the middle (0.5) of the soma\n",
    "Syn.e=0                     # Reverse potential of the synapse (mV)\n",
    "\n",
    "# Create an artificial spike using h.NetStim() (an \"event\" to be delivered to the synapse)...\n",
    "ns=h.NetStim(0.5)\n",
    "ns.start = 50         # time when the spike arrives (in msec)     \n",
    "ns.number = 1         # number of spikes (just one)\n",
    "\n",
    "# ... and connect the event to the synapse.\n",
    "nc = h.NetCon(ns, Syn, -10, 2, 0.008*1)   # function arguments: NetCon(source, target, threshold, delay, weight)"
   ]
  },
  {
   "cell_type": "markdown",
   "metadata": {
    "collapsed": true
   },
   "source": [
    "### Example simulation\n",
    "#### Calculate and print in terminal the depolarization at the soma and at the middle part of the distal dendrite (dend1)"
   ]
  },
  {
   "cell_type": "code",
   "execution_count": null,
   "metadata": {
    "collapsed": false
   },
   "outputs": [],
   "source": [
    "vsoma_vec = h.Vector()         # Membrane potential vector\n",
    "vdend1_vec = h.Vector()        # Membrane potential vector\n",
    "t_vec = h.Vector()             # Time stamp vector\n",
    "\n",
    "# record the appropriate variables from simulation\n",
    "# note that all variables (vname) must be accessed with ._ref_vname\n",
    "vsoma_vec.record(soma(0.5)._ref_v)   \n",
    "vdend1_vec.record(dend1(0.5)._ref_v)\n",
    "t_vec.record(h._ref_t)\n",
    "\n",
    "# Run the simulation\n",
    "h.run()\n",
    "\n",
    "# Remove the first 20 msec of simulation (just to make the plots nicer!)\n",
    "vsoma_vec.remove(0,200)\n",
    "vdend1_vec.remove(0,200)\n",
    "t_vec.remove(0,200)\n",
    "\n",
    "# Plot the results\n",
    "plt.figure(figsize=(8,4)) # Default figsize is (8,6)\n",
    "soma_plot = plt.plot(t_vec, vsoma_vec, color='black')\n",
    "dend_plot = plt.plot(t_vec, vdend1_vec, color='red')\n",
    "\n",
    "plt.legend(soma_plot + dend_plot, ['soma', 'dend'], fontsize=fs)\n",
    "plt.xlabel('time (ms)', fontsize=fs)\n",
    "plt.ylabel('mV', fontsize=fs)\n",
    "\n",
    "print ('Somatic depolarization is ',  round(vsoma_vec.max()-vsoma_vec.min(),2), ' mV')\n",
    "print ('Distal Dendritic depolarization is', round(vdend1_vec.max()-vdend1_vec.min(),2), 'mV')"
   ]
  },
  {
   "cell_type": "markdown",
   "metadata": {},
   "source": [
    "### Task 1: How can you easily make this synapse inhibitory?"
   ]
  },
  {
   "cell_type": "markdown",
   "metadata": {},
   "source": [
    "### Task 2: Move the synapse to the middle of dendrite[1] section.\n",
    "### What do you expect for the amplitude and the duration of the EPSP seen at the dendrite and at the soma?"
   ]
  },
  {
   "cell_type": "markdown",
   "metadata": {},
   "source": [
    "!['Every input for itself (the passive dendritic tree)'](Picture1.png)\n",
    "#### Spruston, Nature Reviews, 2008"
   ]
  },
  {
   "cell_type": "markdown",
   "metadata": {},
   "source": [
    "### Task 3: Insert 1 to 5 synapses like this one in the same location. In this case, this is equivalent to increasing the weight 1 to 5 times.\n",
    "### What is the expected (arithmetic sum) versus actual (simulated output)?\n",
    "### Is their relationship linear? \n",
    "![''](Picture2.jpg)"
   ]
  }
 ],
 "metadata": {
  "anaconda-cloud": {},
  "kernelspec": {
   "display_name": "Python [Root]",
   "language": "python",
   "name": "Python [Root]"
  },
  "language_info": {
   "codemirror_mode": {
    "name": "ipython",
    "version": 2
   },
   "file_extension": ".py",
   "mimetype": "text/x-python",
   "name": "python",
   "nbconvert_exporter": "python",
   "pygments_lexer": "ipython2",
   "version": "2.7.6"
  }
 },
 "nbformat": 4,
 "nbformat_minor": 2
}

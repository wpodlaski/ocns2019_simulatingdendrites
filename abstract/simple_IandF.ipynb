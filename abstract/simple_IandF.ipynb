{
 "cells": [
  {
   "cell_type": "code",
   "execution_count": 2,
   "metadata": {},
   "outputs": [
    {
     "name": "stdout",
     "output_type": "stream",
     "text": [
      "Building the Network...\n",
      "Starting simulation at t=0. s for a duration of 50. ms\n",
      "0.05 (100%) simulated in < 1s\n",
      "Starting simulation at t=50. ms for a duration of 100. ms\n",
      "0.1 (100%) simulated in < 1s\n",
      "Starting simulation at t=150. ms for a duration of 50. ms\n",
      "0.05 (100%) simulated in < 1s\n"
     ]
    },
    {
     "data": {
      "image/png": "[encoded data removed]",
      "text/plain": [
       "<Figure size 432x288 with 1 Axes>"
      ]
     },
     "metadata": {
      "needs_background": "light"
     },
     "output_type": "display_data"
    },
    {
     "name": "stdout",
     "output_type": "stream",
     "text": [
      "The peak voltage is:  34.43407794 mV\n"
     ]
    }
   ],
   "source": [
    "from brian2 import *\n",
    "import matplotlib.pyplot as plt\n",
    "\n",
    "# =============================================================================\n",
    "# Simulation parameters\n",
    "simtime         = 100 * ms\n",
    "defaultclock.dt = 0.1 * ms\n",
    "# =============================================================================\n",
    "\n",
    "# =============================================================================\n",
    "\n",
    "print (\"Building the Network...\")\n",
    "\n",
    "# Parameters for Excitatory Neurons\n",
    "E_L       = -80. * mV      # reversal (rest) membrane potential\n",
    "V_thr     = -45. * mV      # threshold for spike\n",
    "V_reset   = -80. * mV      # reset potential after an emission of a spike\n",
    "C_m_E     = 1.0 * uF/cm**2 # membrane capacitance\n",
    "g_L       = 0.1 * mS/cm**2 # leak conductunce\n",
    "g_c       = 0.2 * mS/cm**2 # coupling conductance\n",
    "tau_rp_E  = 2.0 * ms       # refractory period\n",
    "\n",
    "# Synaptic constants\n",
    "E_ext     = 0. * mV\n",
    "g_ext     = 0.1 * mS/cm**2\n",
    "tau_ext   = 5. * ms\n",
    "\n",
    "# =============================================================================\n",
    "# Modeling Pyramidal and Interneurons\n",
    "# =============================================================================\n",
    "\n",
    "eqs_E = '''\n",
    "\n",
    "dv_soma / dt = ( - g_L * ( v_soma - E_L ) + I) / C_m_E : volt (unless refractory)\n",
    "I : amp/meter**2\n",
    "'''\n",
    "\n",
    "P_E = NeuronGroup(1, eqs_E, threshold='v_soma > V_thr', reset='v_soma = V_reset', refractory=tau_rp_E, method='euler')\n",
    "P_E.v_soma  = E_L\n",
    "\n",
    "# =============================================================================\n",
    "\n",
    "# =============================================================================\n",
    "\n",
    "M = StateMonitor(P_E, ('v_soma', 'I'), record=True)\n",
    "S = SpikeMonitor(P_E)\n",
    "\n",
    "# SIMULATION RUNNING\n",
    "net = Network(collect())\n",
    "net.add(M)\n",
    "net.add(S)\n",
    "P_E.I = 0.0 * uA / cm**2\n",
    "net.run(50 * ms, report='stdout')\n",
    "P_E.I = 10.0 * uA / cm**2\n",
    "net.run(100 * ms, report='stdout')\n",
    "P_E.I = 0.0 * uA / cm**2\n",
    "net.run(50 * ms, report='stdout')\n",
    "\n",
    "# =============================================================================\n",
    "# A N A L Y S I S    o f    t h e    S I M U L A T I O N\n",
    "# =============================================================================\n",
    "plt.figure(1)\n",
    "V = M.v_soma[0]\n",
    "for t in S.spike_trains()[0]:\n",
    "    s = int(t/defaultclock.dt)\n",
    "    V[s] = 40 * mV\n",
    "plt.plot(M.t/ms, V / mV, label='soma')\n",
    "plt.xlabel(\"Time [ms]\")\n",
    "plt.ylabel(\"Voltage [mV]\")\n",
    "plt.show()\n",
    "\n",
    "print (\"The peak voltage is: \", max(M[0].v_soma)-E_L)\n"
   ]
  },
  {
   "cell_type": "markdown",
   "metadata": {},
   "source": [
    "The aim of this exercise is to:\n",
    "\n",
    "1. Stimulate the cell with differnt currents (from 0 to 20 with step 2) and record its maximum response.\n",
    "2. Add a dendritic compartment and perform the aforementioned protocol adding now the external current in the dendrite.\n",
    "3. Add a simple alpha synapse at the dendrite and stimulate it using a Poisson spike train (10 neurons, 10-100 * Hz, step 10 Hz). Calculate the number of spikes and give a plot of frequency vs. rate\n",
    "4. Add an NMDA and a GABAB synapse on the dendritic compartment. Stimulate it with the same protocol."
   ]
  },
  {
   "cell_type": "code",
   "execution_count": null,
   "metadata": {},
   "outputs": [],
   "source": []
  }
 ],
 "metadata": {
  "kernelspec": {
   "display_name": "Python 3",
   "language": "python",
   "name": "python3"
  },
  "language_info": {
   "codemirror_mode": {
    "name": "ipython",
    "version": 3
   },
   "file_extension": ".py",
   "mimetype": "text/x-python",
   "name": "python",
   "nbconvert_exporter": "python",
   "pygments_lexer": "ipython3",
   "version": "3.7.3"
  }
 },
 "nbformat": 4,
 "nbformat_minor": 2
}

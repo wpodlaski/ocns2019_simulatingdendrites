{
 "cells": [
  {
   "cell_type": "markdown",
   "metadata": {},
   "source": [
    "## OCNS 2019, Simulating dendrites at different levels of abstraction.\n",
    "## Integrating inputs with active dendritic conductances\n",
    "### In this exercise we will see how inputs can be amplified by active sodium conductances"
   ]
  },
  {
   "cell_type": "code",
   "execution_count": null,
   "metadata": {
    "collapsed": true
   },
   "outputs": [],
   "source": [
    "# -*- coding: utf-8 -*-\n",
    "from neuron import h, gui\n",
    "from matplotlib import pyplot as plt\n",
    "% matplotlib inline\n",
    "fs = 14  # font size for plots\n",
    "\n",
    "#Simulation parameters\t\n",
    "h.tstop=100 \t\t        #ms\n",
    "h.dt=0.1\t\t\t        #ms\n",
    "h.steps_per_ms=10\t\t#For plotting-should be compartible with dt\n",
    "h.v_init=-65"
   ]
  },
  {
   "cell_type": "markdown",
   "metadata": {},
   "source": [
    "### compile ion channel models (.mod files)"
   ]
  },
  {
   "cell_type": "code",
   "execution_count": null,
   "metadata": {
    "collapsed": false
   },
   "outputs": [],
   "source": [
    "%%bash\n",
    "nrnivmodl # Compile NEURON model"
   ]
  },
  {
   "cell_type": "markdown",
   "metadata": {},
   "source": [
    "### Create a soma and two dendrites, define their anatomical and biophysical properties and connect them."
   ]
  },
  {
   "cell_type": "code",
   "execution_count": null,
   "metadata": {
    "collapsed": false
   },
   "outputs": [],
   "source": [
    "#------------------------------------------------------\n",
    "#========== Create a soma and two dendrites and connect them.\n",
    "soma=h.Section(name='soma')\n",
    "dend0, dend1 = [h.Section(name=n) for n in ['dend0', 'dend1']]\n",
    "\n",
    "# Define properties of soma\n",
    "soma.diam = 20\t#um\n",
    "soma.L = 200    \t#um\n",
    "soma.Ra = 100         # Axial resistance in Ohm * cm\n",
    "soma.cm = 1\t\t      #specific membrane capacitance, capacitance per unit of membrane, uF/cm^2   \n",
    "soma.nseg=1\t\n",
    "\n",
    "#soma.insert('hh')\n",
    "#for seg in soma: \n",
    "#    seg.hh.gnabar = 0.12  # Sodium conductance in S/cm2\n",
    "#    seg.hh.gkbar = 0.036  # Potassium conductance in S/cm2\n",
    "#    seg.hh.gl = 0.0003    # Leak conductance in S/cm2\n",
    "#    seg.hh.el = -65       # Reversal potential in mV\n",
    "    \n",
    "soma.insert('pas')\n",
    "for seg in soma: \n",
    "    seg.pas.e= -65\n",
    "    seg.pas.g= 0.0003\n",
    "\n",
    "# Define properties of dend0\n",
    "dend0.diam = 5\n",
    "dend0.L = 500\n",
    "dend0.nseg=11\n",
    "dend0.cm = 1\n",
    "dend0.Ra = 100\n",
    "\n",
    "dend0.insert('pas')\n",
    "for seg in dend0:\n",
    "    seg.pas.e= -65\n",
    "    seg.pas.g= 0.0003\n",
    "    \n",
    "# Define properties of dend1\n",
    "dend1.diam = 3\n",
    "dend1.L = 200\n",
    "dend1.nseg=13\n",
    "dend1.cm = 1\n",
    "dend1.Ra = 100\n",
    "\n",
    "dend1.insert('traub')\n",
    "for seg in dend1: \n",
    "    seg.traub.gNabar = 0.1  # Sodium conductance in S/cm2\n",
    "    seg.traub.gKbar = 0.045  # Potassium conductance in S/cm2\n",
    "    seg.traub.gLbar = 0.0003    # Leak conductance in S/cm2\n",
    "    seg.traub.eL = -65.\n",
    "    seg.traub.eK = -70.  # Reversal potential in mV\n",
    "    seg.traub.eNa = 90.\n",
    "    seg.traub.v_shft += 9.5\n",
    "\t\n",
    "dend0.connect(soma(0),0)        #Connect the 0 point of dendrite 0 to the zero point of the soma\n",
    "dend1.connect(dend0(1),0)  "
   ]
  },
  {
   "cell_type": "markdown",
   "metadata": {},
   "source": [
    "### Synaptic Stimulation"
   ]
  },
  {
   "cell_type": "code",
   "execution_count": null,
   "metadata": {
    "collapsed": true
   },
   "outputs": [],
   "source": [
    "#Place the synapse to the middle (0.5) of the soma, ...\n",
    "Syn=h.ExpSyn(dend1(0.5))\n",
    "Syn.e=0                     #Reverse potential of the synapse (mV)\n",
    "\n",
    "#...create an artificial spike (an \"event\" to be delivered to the synapse)...\n",
    "ns=h.NetStim(0.5)\n",
    "ns.start = 50      \n",
    "ns.number = 1  \n",
    "\n",
    "#... and connect the event to the synapse.\n",
    "nc = h.NetCon(ns,Syn, -10, 2, 0.008*5)"
   ]
  },
  {
   "cell_type": "markdown",
   "metadata": {
    "collapsed": true
   },
   "source": [
    "### Example simulation\n",
    "### Compare the depolarization at the soma with and without active conductances in the dendrites"
   ]
  },
  {
   "cell_type": "code",
   "execution_count": null,
   "metadata": {
    "collapsed": false
   },
   "outputs": [],
   "source": [
    "# record the necessary variables\n",
    "vsoma_vec = h.Vector()        # Membrane potential vector\n",
    "vdend1_vec = h.Vector()        # Membrane potential vector\n",
    "vdend0_vec = h.Vector()        # Membrane potential vector\n",
    "iNa_vec = h.Vector()\n",
    "t_vec = h.Vector()        # Time stamp vector\n",
    "vsoma_vec.record(soma(0.5)._ref_v)\n",
    "vdend1_vec.record(dend1(0.5)._ref_v)\n",
    "vdend0_vec.record(dend0(0.5)._ref_v)\n",
    "iNa_vec.record(dend1(0.5).traub._ref_iNa)\n",
    "t_vec.record(h._ref_t)\n",
    "\n",
    "# Run the simulation\n",
    "h.run()\n",
    "\n",
    "vsoma_vec.remove(0,200)\n",
    "vdend1_vec.remove(0,200)\n",
    "vdend0_vec.remove(0,200)\n",
    "iNa_vec.remove(0,200)\n",
    "t_vec.remove(0,200)\n",
    "plt.figure(figsize=(8,8)) # Default figsize is (8,6)\n",
    "plt.subplot(3,1,1)\n",
    "plt.plot(t_vec, vsoma_vec, color='black')\n",
    "plt.subplot(3,1,2)\n",
    "plt.plot(t_vec, vdend1_vec, color='black')\n",
    "plt.plot(t_vec, vdend0_vec, '--',color='black')\n",
    "plt.subplot(3,1,3)\n",
    "plt.plot(t_vec, iNa_vec, color='black')\n",
    "\n",
    "print ('Somatic depolarization is ',  round(vsoma_vec.max()-vsoma_vec.min(),2), ' mV')\n",
    "print ('Distal Dendritic depolarization is', round(vdend1_vec.max()-vdend1_vec.min(),2), 'mV')\n",
    "\n",
    "for seg in dend1:\n",
    "    seg.traub.gNabar = 0.0  # Sodium conductance in S/cm2\n",
    "    seg.traub.gKbar = 0.0  # Potassium conductance in S/cm2\n",
    "\n",
    "h.run()\n",
    "vsoma_vec.remove(0,200)\n",
    "vdend1_vec.remove(0,200)\n",
    "vdend0_vec.remove(0,200)\n",
    "iNa_vec.remove(0,200)\n",
    "t_vec.remove(0,200)\n",
    "\n",
    "plt.subplot(3,1,1)\n",
    "plt.plot(t_vec, vsoma_vec, color='red')\n",
    "plt.legend(('active','passive'),fontsize=fs)\n",
    "plt.ylabel('soma (mV)',fontsize=fs)\n",
    "plt.subplot(3,1,2)\n",
    "plt.plot(t_vec, vdend1_vec, color='red')\n",
    "plt.plot(t_vec, vdend0_vec, '--',color='red')\n",
    "plt.legend(('active dend1','active dend0','passive dend1','passive dend0'),fontsize=fs)\n",
    "plt.ylabel('dendrites (mV)',fontsize=fs)\n",
    "plt.subplot(3,1,3)\n",
    "plt.plot(t_vec, iNa_vec, color='red')\n",
    "plt.legend(('active','passive'),fontsize=fs)\n",
    "plt.ylabel('sodium current (nA)',fontsize=fs)\n",
    "plt.xlabel('time (ms)')\n",
    "plt.ylabel('mV')\n",
    "\n",
    "print ('Somatic depolarization is ',  round(vsoma_vec.max()-vsoma_vec.min(),2), ' mV')\n",
    "print ('Distal Dendritic depolarization is', round(vdend1_vec.max()-vdend1_vec.min(),2), 'mV')"
   ]
  },
  {
   "cell_type": "markdown",
   "metadata": {},
   "source": [
    "### Task: follow the previous exercise and plot the expected versus actual somatic depolarization\n",
    "### (Hint: it should be supra-linear!)"
   ]
  }
 ],
 "metadata": {
  "anaconda-cloud": {},
  "kernelspec": {
   "display_name": "Python [Root]",
   "language": "python",
   "name": "Python [Root]"
  },
  "language_info": {
   "codemirror_mode": {
    "name": "ipython",
    "version": 2
   },
   "file_extension": ".py",
   "mimetype": "text/x-python",
   "name": "python",
   "nbconvert_exporter": "python",
   "pygments_lexer": "ipython2",
   "version": "2.7.6"
  }
 },
 "nbformat": 4,
 "nbformat_minor": 2
}

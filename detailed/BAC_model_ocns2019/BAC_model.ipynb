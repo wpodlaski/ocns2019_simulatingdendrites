{
 "cells": [
  {
   "cell_type": "markdown",
   "metadata": {},
   "source": [
    "## OCNS 2019, Simulating dendrites at different levels of abstraction.\n",
    "## Exercise 3: Coincidence detection in the apical tree through calcium spike.\n",
    "### In this exercise we will see how coincident inputs at the dendrite and soma produce a supralinear response.\n",
    "#### This exercise is based on Schaefer et al. 2003 (https://www.physiology.org/doi/full/10.1152/jn.00046.2003), with code modified from ModelDB (https://senselab.med.yale.edu/modeldb/showmodel.cshtml?model=83344&file=%2FBACFiring%2FBACModel.hoc#tabs-1)"
   ]
  },
  {
   "cell_type": "code",
   "execution_count": 19,
   "metadata": {
    "collapsed": false
   },
   "outputs": [
    {
     "name": "stdout",
     "output_type": "stream",
     "text": [
      "/Users/wfpodlaski/Dropbox/Code/ocns2019_simulatingdendrites/BAC_model_ocns2019\n",
      "SlowCa.mod cad2.mod child.mod childa.mod epsp.mod it2.mod kaprox.mod kca.mod km.mod kv.mod na.mod\n",
      "SlowCa.mod cad2.mod child.mod childa.mod epsp.mod it2.mod kaprox.mod kca.mod km.mod kv.mod na.mod\n",
      "\"/Applications/NEURON-7.7/nrn/share/nrn/libtool\" --tag=CC --mode=compile gcc -DHAVE_CONFIG_H  -I. -I.. -I\"/Applications/NEURON-7.7/nrn/include/nrn\" -I\"/Applications/NEURON-7.7/nrn/x86_64/lib\"      -g -O2 -c -o mod_func.lo mod_func.c\n",
      "libtool: compile:  gcc -DHAVE_CONFIG_H -I. -I.. -I/Applications/NEURON-7.7/nrn/include/nrn -I/Applications/NEURON-7.7/nrn/x86_64/lib -g -O2 -c mod_func.c  -fno-common -DPIC -o .libs/mod_func.o\n",
      "\"/Applications/NEURON-7.7/nrn/share/nrn/libtool\" --tag=CC --mode=link gcc -module  -g -O2    -headerpad_max_install_names -o libnrnmech.la -rpath \"/Applications/NEURON-7.7/nrn/x86_64/lib\"  SlowCa.lo cad2.lo child.lo childa.lo epsp.lo it2.lo kaprox.lo kca.lo km.lo kv.lo na.lo mod_func.lo  -L\"/Applications/NEURON-7.7/nrn/x86_64/lib\" -lnrnoc -loc -lmemacs  -lscopmath -lsparse13 -lreadline -lncurses -L\"/Applications/NEURON-7.7/nrn/x86_64/lib\" -lnrniv -livoc -lneuron_gnu -lmeschach -lsundials       \n",
      "libtool: link: rm -fr  .libs/libnrnmech.0.so .libs/libnrnmech.la .libs/libnrnmech.lai .libs/libnrnmech.so\n",
      "libtool: link: gcc -Wl,-undefined -Wl,dynamic_lookup -o .libs/libnrnmech.0.so -bundle  .libs/SlowCa.o .libs/cad2.o .libs/child.o .libs/childa.o .libs/epsp.o .libs/it2.o .libs/kaprox.o .libs/kca.o .libs/km.o .libs/kv.o .libs/na.o .libs/mod_func.o   -L/Applications/NEURON-7.7/nrn/x86_64/lib /Applications/NEURON-7.7/nrn/x86_64/lib/libnrnoc.dylib /Applications/NEURON-7.7/nrn/x86_64/lib/liboc.dylib -L/usr/X11/lib -lX11 /Applications/NEURON-7.7/nrn/x86_64/lib/libmemacs.dylib /Applications/NEURON-7.7/nrn/x86_64/lib/libscopmath.dylib /Applications/NEURON-7.7/nrn/x86_64/lib/libsparse13.dylib /Applications/NEURON-7.7/nrn/x86_64/lib/libreadline.dylib -lncurses /Applications/NEURON-7.7/nrn/x86_64/lib/libnrniv.dylib /Applications/NEURON-7.7/nrn/x86_64/lib/libivoc.dylib /Applications/NEURON-7.7/nrn/x86_64/lib/libneuron_gnu.dylib /Applications/NEURON-7.7/nrn/x86_64/lib/libmeschach.dylib /Applications/NEURON-7.7/nrn/x86_64/lib/libsundials.dylib  -g -O2  \n",
      "libtool: link: (cd \".libs\" && rm -f \"libnrnmech.so\" && ln -s \"libnrnmech.0.so\" \"libnrnmech.so\")\n",
      "libtool: link: ( cd \".libs\" && rm -f \"libnrnmech.la\" && ln -s \"../libnrnmech.la\" \"libnrnmech.la\" )\n",
      "Successfully created x86_64/special\n"
     ]
    }
   ],
   "source": [
    "%%bash\n",
    "nrnivmodl # Compile NEURON model"
   ]
  },
  {
   "cell_type": "code",
   "execution_count": 1,
   "metadata": {
    "collapsed": false
   },
   "outputs": [],
   "source": [
    "from neuron import h, gui\n",
    "import matplotlib.pyplot as plt\n",
    "% matplotlib inline\n",
    "\n",
    "h.tstop=1100\n",
    "h.steps_per_ms = 40\n",
    "h.dt = 0.025"
   ]
  },
  {
   "cell_type": "code",
   "execution_count": 2,
   "metadata": {
    "collapsed": false
   },
   "outputs": [
    {
     "name": "stdout",
     "output_type": "stream",
     "text": [
      "\t1 \n"
     ]
    },
    {
     "data": {
      "text/plain": [
       "1.0"
      ]
     },
     "execution_count": 2,
     "metadata": {},
     "output_type": "execute_result"
    }
   ],
   "source": [
    "h.xopen(\"morphology.nrn\")\n",
    "h.xopen(\"Model_specification.hoc\")"
   ]
  },
  {
   "cell_type": "code",
   "execution_count": 3,
   "metadata": {
    "collapsed": false
   },
   "outputs": [
    {
     "data": {
      "text/plain": [
       "0.0"
      ]
     },
     "execution_count": 3,
     "metadata": {},
     "output_type": "execute_result"
    }
   ],
   "source": [
    "for sec in h.allsec() :\n",
    "    if(h.nseg < h.L/20) : \n",
    "            h.nseg=int(h.L/20+1 )\n",
    "\n",
    "h.create_axon() \n",
    "h.init_cell()"
   ]
  },
  {
   "cell_type": "code",
   "execution_count": 4,
   "metadata": {
    "collapsed": false
   },
   "outputs": [],
   "source": [
    "#Create a current Clamp procedure called \"IatSoma\" starting at 1005.1 ms and with duration=5ms. Amplitude is an argument.     \n",
    "ic=h.IClamp(h.somaA(0.5))\n",
    "ic.delay=1005.1   #ms\n",
    "ic.dur=5   #ms\n",
    "ic.amp=1.8  #nA"
   ]
  },
  {
   "cell_type": "code",
   "execution_count": 5,
   "metadata": {
    "collapsed": true
   },
   "outputs": [],
   "source": [
    "#Include an EPSP\n",
    "# EPSP : f(t) = (1-exp(-t/chi1)) * exp(-t/chi2) \n",
    "#       mit chi1 = 0.5 -2 ms und chi2 = 2-8 ms\n",
    "syn =h.epsp(h.mbSec.sec(0))\n",
    "   \n",
    "syn.tau0 = 0.8   \n",
    "syn.tau1 = 4     \n",
    "syn.onset = 1007.1  \n",
    "syn.imax = 0.6"
   ]
  },
  {
   "cell_type": "code",
   "execution_count": 6,
   "metadata": {
    "collapsed": false
   },
   "outputs": [
    {
     "data": {
      "text/plain": [
       "Vector[5]"
      ]
     },
     "execution_count": 6,
     "metadata": {},
     "output_type": "execute_result"
    }
   ],
   "source": [
    "vsoma_vec = h.Vector()        # Membrane potential vector\n",
    "vdend1_vec = h.Vector()        # Membrane potential vector\n",
    "t_vec = h.Vector()        # Time stamp vector\n",
    "vsoma_vec.record(h.somaA(0.5)._ref_v)\n",
    "vdend1_vec.record(h.mbSec.sec(0.5)._ref_v)\n",
    "t_vec.record(h._ref_t)"
   ]
  },
  {
   "cell_type": "code",
   "execution_count": 7,
   "metadata": {
    "collapsed": false
   },
   "outputs": [
    {
     "data": {
      "text/plain": [
       "1.0"
      ]
     },
     "execution_count": 7,
     "metadata": {},
     "output_type": "execute_result"
    }
   ],
   "source": [
    "sh1 = h.PlotShape(0)\n",
    "sh1.size(-386.7,313.3,-150.382,1048.64)\n",
    "sh1.variable(\"v\")\n",
    "{sh1.view(-386.7, -150.382, 700, 1199.02, 331, 30, 325, 570)}\n",
    "h.fast_flush_list.append(sh1)\n",
    "sh1.save_name(\"fast_flush_list.\")\n",
    "sh1.show(1)\n",
    "sh1.exec_menu(\"Shape Plot\")\n",
    "\n",
    "sh2= h.PlotShape(0)\n",
    "sh2.size(-792.112,571.207,-154.611,1031.33)\n",
    "sh2.variable(\"cai\")\n",
    "{sh2.view(-792.112, -154.611, 1363.32, 1185.94, 5, 340, 300, 260)}\n",
    "h.fast_flush_list.append(sh2)\n",
    "sh2.save_name(\"fast_flush_list.\")\n",
    "sh2.show(1)\n",
    "sh2.exec_menu(\"Shape Plot\")\n",
    "sh2.scale(0,3)\n"
   ]
  },
  {
   "cell_type": "code",
   "execution_count": 8,
   "metadata": {
    "collapsed": false
   },
   "outputs": [
    {
     "data": {
      "text/plain": [
       "Text(0,0.5,'mV')"
      ]
     },
     "execution_count": 8,
     "metadata": {},
     "output_type": "execute_result"
    },
    {
     "data": {
      "image/png": "[encoded data removed]",
      "text/plain": [
       "<Figure size 800x400 with 1 Axes>"
      ]
     },
     "metadata": {},
     "output_type": "display_data"
    }
   ],
   "source": [
    "h.init()\n",
    "h.run()\n",
    "\n",
    "vsoma_vec.remove(0,200)\n",
    "vdend1_vec.remove(0,200)\n",
    "t_vec.remove(0,200)\n",
    "plt.figure(figsize=(8,4)) # Default figsize is (8,6)\n",
    "soma_plot = plt.plot(t_vec, vsoma_vec, color='black')\n",
    "dend_plot = plt.plot(t_vec, vdend1_vec, color='red')\n",
    "plt.legend(soma_plot + dend_plot, ['soma', 'dend'])\n",
    "plt.xlabel('time (ms)')\n",
    "plt.ylabel('mV')"
   ]
  },
  {
   "cell_type": "code",
   "execution_count": null,
   "metadata": {
    "collapsed": true
   },
   "outputs": [],
   "source": []
  },
  {
   "cell_type": "code",
   "execution_count": null,
   "metadata": {
    "collapsed": true
   },
   "outputs": [],
   "source": []
  }
 ],
 "metadata": {
  "anaconda-cloud": {},
  "kernelspec": {
   "display_name": "Python [Root]",
   "language": "python",
   "name": "Python [Root]"
  },
  "language_info": {
   "codemirror_mode": {
    "name": "ipython",
    "version": 2
   },
   "file_extension": ".py",
   "mimetype": "text/x-python",
   "name": "python",
   "nbconvert_exporter": "python",
   "pygments_lexer": "ipython2",
   "version": "2.7.6"
  }
 },
 "nbformat": 4,
 "nbformat_minor": 2
}

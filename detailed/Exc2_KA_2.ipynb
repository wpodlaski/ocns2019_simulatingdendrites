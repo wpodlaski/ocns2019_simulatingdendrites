{
 "cells": [
  {
   "cell_type": "markdown",
   "metadata": {},
   "source": [
    "## OCNS 2019, Simulating dendrites at different levels of abstraction\n",
    "## Exercise 2b: Gating back-propagating action potentials with KA currents\n",
    "\n",
    "### In this exercise we will see how an A-type potassium current can be used to gate backpropagating action potentials. You will start with the same setup as the previous exercises, with a three-compartment neuron model -- a soma and two dendritic compartments."
   ]
  },
  {
   "cell_type": "code",
   "execution_count": null,
   "metadata": {
    "collapsed": true
   },
   "outputs": [],
   "source": [
    "# -*- coding: utf-8 -*-\n",
    "from neuron import h, gui\n",
    "from matplotlib import pyplot as plt\n",
    "import numpy as np\n",
    "% matplotlib inline\n",
    "\n",
    "# Simulation parameters\n",
    "h.tstop = 100               # ms\n",
    "h.dt = 0.1                  # ms\n",
    "h.steps_per_ms = 10         # For plotting-should be compartible with dt\n",
    "h.v_init = -65              # initial membrane potential\n",
    "fs = 14                     # font size for plots"
   ]
  },
  {
   "cell_type": "markdown",
   "metadata": {},
   "source": [
    "### Define the morphology and active conductances"
   ]
  },
  {
   "cell_type": "code",
   "execution_count": null,
   "metadata": {
    "collapsed": false
   },
   "outputs": [],
   "source": [
    "#------------------------------------------------------\n",
    "#========== Create a soma and two dendrites and connect them.\n",
    "soma=h.Section(name='soma')\n",
    "dend0, dend1 = [h.Section(name=n) for n in ['dend0', 'dend1']]\n",
    "\n",
    "# Define properties of soma\n",
    "soma.diam = 20\t # um\n",
    "soma.L = 200     # um\n",
    "soma.Ra = 100    # Axial resistance in Ohm * cm\n",
    "soma.cm = 1      # specific membrane capacitance, capacitance per unit of membrane, uF/cm^2   \n",
    "soma.nseg=1\n",
    "\n",
    "soma.insert('hh')\n",
    "for seg in soma: \n",
    "    seg.hh.gnabar = 0.12  # Sodium conductance in S/cm2\n",
    "    seg.hh.gkbar = 0.036  # Potassium conductance in S/cm2\n",
    "    seg.hh.gl = 0.0003    # Leak conductance in S/cm2\n",
    "    seg.hh.el = -65       # Reversal potential in mV\n",
    "\n",
    "# Define properties of dend0\n",
    "dend0.diam = 5\n",
    "dend0.L = 500\n",
    "dend0.nseg=11\n",
    "dend0.cm = 1\n",
    "dend0.Ra = 100\n",
    "\n",
    "dend0.insert('pas')      #Insert passive (leak) channels\n",
    "for seg in dend0:\n",
    "    seg.pas.e= -65\n",
    "    seg.pas.g= 0.0003\n",
    "\n",
    "# Define properties of dend1\n",
    "dend1.diam = 3\n",
    "dend1.L = 200\n",
    "dend1.nseg=13\n",
    "dend1.cm = 1\n",
    "dend1.Ra = 100\n",
    "\n",
    "dend1.insert('pas')      #Insert passive (leak) channels\n",
    "for seg in dend1:\n",
    "    seg.pas.e= -65\n",
    "    seg.pas.g= 0.0003\n",
    "    \n",
    "# connect the compartments together\n",
    "dend0.connect(soma(0),0)        #Connect the 0 point of dendrite 0 to the zero point of the soma\n",
    "dend1.connect(dend0(1),0)  "
   ]
  },
  {
   "cell_type": "markdown",
   "metadata": {},
   "source": [
    "### Add the A-type potassium current"
   ]
  },
  {
   "cell_type": "code",
   "execution_count": null,
   "metadata": {
    "collapsed": false
   },
   "outputs": [],
   "source": [
    "soma.insert('ka')\n",
    "for seg in soma:\n",
    "    seg.ka.gbar = 0.0\n",
    "    seg.ek = -90.\n",
    "    \n",
    "dend0.insert('ka')\n",
    "for seg in dend0:\n",
    "    seg.ka.gbar = 0.0\n",
    "    seg.ek = -90.\n",
    "    \n",
    "dend1.insert('ka')\n",
    "for seg in dend1:\n",
    "    seg.ka.gbar = 0.1\n",
    "    seg.ek = -90."
   ]
  },
  {
   "cell_type": "markdown",
   "metadata": {},
   "source": [
    "### We will first illustrate the effect of KA by clamping the voltage of the dendrite and observing the effect of an action potential at the soma"
   ]
  },
  {
   "cell_type": "markdown",
   "metadata": {},
   "source": [
    "### First set up the stimulation:"
   ]
  },
  {
   "cell_type": "code",
   "execution_count": null,
   "metadata": {
    "collapsed": false
   },
   "outputs": [],
   "source": [
    "#------------------------------------------------------\n",
    "#========== Synaptic stimulation.\n",
    "Syn_soma=h.ExpSyn(soma(0.5))\n",
    "Syn_soma.e=0                     #Reverse potential of the synapse (mV)\n",
    "SEC_dend = h.SEClamp(dend1(0.5))\n",
    "SEC_dend.amp2 = -40.\n",
    "SEC_dend.dur1 = 0\n",
    "SEC_dend.dur2 = 79\n",
    "SEC_dend.dur3 = 0\n",
    "\n",
    "#========== ...create an artificial spike (an \"event\" to be delivered to the synapse)...\n",
    "ns_soma=h.NetStim(0.5)\n",
    "ns_soma.start = 80 \n",
    "ns_soma.number = 1 \n",
    "\n",
    "#... and connect the event to the synapse.\n",
    "nc_soma = h.NetCon(ns_soma,Syn_soma, -10, 0, 0.4*3)\n",
    "\n",
    "#Calculate and print in terminal the depolarization at the soma and at the middle part of the distal dendrite (dendrite[1])\n",
    "vsoma_vec = h.Vector()        # Membrane potential vector\n",
    "vdend1_vec = h.Vector()        # Membrane potential vector\n",
    "ikadend1_vec = h.Vector()\n",
    "t_vec = h.Vector()        # Time stamp vector\n",
    "vsoma_vec.record(soma(0.5)._ref_v)\n",
    "vdend1_vec.record(dend1(0.5)._ref_v)\n",
    "ikadend1_vec.record(dend1(0.5)._ref_ik)\n",
    "t_vec.record(h._ref_t)"
   ]
  },
  {
   "cell_type": "markdown",
   "metadata": {},
   "source": [
    "### Run the experiment and plot the results"
   ]
  },
  {
   "cell_type": "code",
   "execution_count": null,
   "metadata": {
    "collapsed": false
   },
   "outputs": [],
   "source": [
    "\n",
    "h.run()\n",
    "\n",
    "plt.figure(figsize=(8,8)) # Default figsize is (8,6)\n",
    "plt.subplot(3,1,1)\n",
    "plt.plot(t_vec, vsoma_vec, color='black')\n",
    "plt.subplot(3,1,2)\n",
    "plt.plot(t_vec, vdend1_vec, color='black')\n",
    "plt.subplot(3,1,3)\n",
    "plt.plot(t_vec, ikadend1_vec, color='black')\n",
    "\n",
    "print ('Distal Dendritic depolarization w/ v-clamp:', round(vdend1_vec.max()-vdend1_vec.min(),2), 'mV')\n",
    "\n",
    "# Now compare with the default case without any dendritic depolarization\n",
    "SEC_dend.dur2 = 0\n",
    "h.run()\n",
    "\n",
    "print ('Distal Dendritic depolarization w/out v-clamp: ', round(vdend1_vec.max()-vdend1_vec.min(),2), 'mV')\n",
    "\n",
    "plt.subplot(3,1,1)\n",
    "plt.plot(t_vec, vsoma_vec, color='red')\n",
    "plt.legend(('v-clamp','default'),fontsize=fs)\n",
    "plt.xlabel('time (ms)',fontsize=fs)\n",
    "plt.ylabel('soma (mV)',fontsize=fs)\n",
    "plt.subplot(3,1,2)\n",
    "plt.plot(t_vec, vdend1_vec, color='red')\n",
    "plt.legend(('v-clamp','default'),fontsize=fs)\n",
    "plt.xlabel('time (ms)',fontsize=fs)\n",
    "plt.ylabel('dend1 (mV)',fontsize=fs)\n",
    "plt.subplot(3,1,3)\n",
    "p=plt.plot(t_vec, ikadend1_vec, color='red')\n",
    "plt.legend(('v-clamp','default'),fontsize=fs)\n",
    "plt.xlabel('time (ms)',fontsize=fs)\n",
    "plt.ylabel('ik (nA)',fontsize=fs)\n",
    "plt.tight_layout()\n",
    "\n",
    "# this will be used in the next part\n",
    "no_clamp_voltage = round(vdend1_vec.max())"
   ]
  },
  {
   "cell_type": "markdown",
   "metadata": {},
   "source": [
    "### Task 1: now let's run over different v-clamp levels to see how this affects the depolarization"
   ]
  },
  {
   "cell_type": "code",
   "execution_count": null,
   "metadata": {
    "collapsed": false
   },
   "outputs": [],
   "source": [
    "# loop over different voltage clamp levels to see how it affects the result\n",
    "\n",
    "# the voltage-clamp shuts off just before somatic input is given\n",
    "SEC_dend.dur2 = 79\n",
    "\n",
    "# loop over v-clamps from -70 to -40 and record the maximum depolarization at the dendrite\n",
    "# in the for loop, change amp2 of the SEClamp\n",
    "clamp_levels = np.linspace(-70,-40,7)\n",
    "clamp_voltages = np.zeros((len(clamp_levels),))\n",
    "\n",
    "# loop here and plot"
   ]
  },
  {
   "cell_type": "markdown",
   "metadata": {
    "collapsed": true
   },
   "source": [
    "### Now let's simulate the same thing, but with synaptic input\n",
    "#### Example simulation"
   ]
  },
  {
   "cell_type": "code",
   "execution_count": null,
   "metadata": {
    "collapsed": false
   },
   "outputs": [],
   "source": [
    "\n",
    "# first make sure the voltage-clamp is inactive\n",
    "SEC_dend.dur2 = 0\n",
    "\n",
    "# now define a synapse at the distal dendrite\n",
    "Syn_dend=h.ExpSyn(dend1(0.5))\n",
    "Syn_dend.e=0\n",
    "ns_dend=h.NetStim(0.5)\n",
    "ns_dend.start = 60      \n",
    "ns_dend.number = 40\n",
    "ns_dend.interval = 0.5\n",
    "nc_dend = h.NetCon(ns_dend,Syn_dend, -10, 0, 0.025) \n",
    "\n",
    "h.run()\n",
    "\n",
    "plt.figure(figsize=(8,8)) # Default figsize is (8,6)\n",
    "plt.subplot(3,1,1)\n",
    "plt.plot(t_vec, vsoma_vec, color='black')\n",
    "plt.subplot(3,1,2)\n",
    "plt.plot(t_vec, vdend1_vec, color='black')\n",
    "plt.subplot(3,1,3)\n",
    "plt.plot(t_vec, ikadend1_vec, color='black')\n",
    "\n",
    "print ('Distal Dendritic depolarization w/ v-clamp:', round(vdend1_vec.max()-vdend1_vec.min(),2), 'mV')\n",
    "\n",
    "# now set the weight to zero to see what happens when there is no dendritic activation\n",
    "nc_dend.weight[0] = 0.0\n",
    "\n",
    "h.run()\n",
    "\n",
    "print ('Distal Dendritic depolarization w/out v-clamp: ', round(vdend1_vec.max()-vdend1_vec.min(),2), 'mV')\n",
    "\n",
    "plt.subplot(3,1,1)\n",
    "plt.plot(t_vec, vsoma_vec, color='red')\n",
    "plt.legend(('syn. input','default'),fontsize=fs)\n",
    "plt.xlabel('time (ms)',fontsize=fs)\n",
    "plt.ylabel('soma (mV)',fontsize=fs)\n",
    "plt.subplot(3,1,2)\n",
    "plt.plot(t_vec, vdend1_vec, color='red')\n",
    "plt.legend(('syn. input','default'),fontsize=fs)\n",
    "plt.xlabel('time (ms)',fontsize=fs)\n",
    "plt.ylabel('dend1 (mV)',fontsize=fs)\n",
    "plt.subplot(3,1,3)\n",
    "plt.plot(t_vec, ikadend1_vec, color='red')\n",
    "plt.legend(('syn. input','default'),fontsize=fs)\n",
    "plt.xlabel('time (ms)',fontsize=fs)\n",
    "plt.ylabel('ik (nA)',fontsize=fs)\n",
    "plt.tight_layout()\n"
   ]
  },
  {
   "cell_type": "markdown",
   "metadata": {
    "collapsed": true
   },
   "source": [
    "### Task 2: Repeat task 1 for the case of synaptic input"
   ]
  },
  {
   "cell_type": "code",
   "execution_count": null,
   "metadata": {
    "collapsed": true
   },
   "outputs": [],
   "source": []
  }
 ],
 "metadata": {
  "anaconda-cloud": {},
  "kernelspec": {
   "display_name": "Python [Root]",
   "language": "python",
   "name": "Python [Root]"
  },
  "language_info": {
   "codemirror_mode": {
    "name": "ipython",
    "version": 2
   },
   "file_extension": ".py",
   "mimetype": "text/x-python",
   "name": "python",
   "nbconvert_exporter": "python",
   "pygments_lexer": "ipython2",
   "version": "2.7.6"
  }
 },
 "nbformat": 4,
 "nbformat_minor": 0
}

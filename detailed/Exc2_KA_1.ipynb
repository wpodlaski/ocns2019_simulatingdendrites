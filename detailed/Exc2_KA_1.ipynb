{
 "cells": [
  {
   "cell_type": "markdown",
   "metadata": {},
   "source": [
    "## OCNS 2019, Simulating dendrites at different levels of abstraction\n",
    "\n",
    "## Exercise 2a: Temporal integration and coincidence detection with KA and IH currents\n",
    "\n",
    "### In this exercise we will see how an A-type potassium current and Ih cation current can be used to constrain the temporal window of AP firing. You will start with the same setup as the previous exercises, with a three-compartment neuron model -- a soma and two dendritic compartments."
   ]
  },
  {
   "cell_type": "markdown",
   "metadata": {},
   "source": [
    "### compile ion channel models (.mod files)\n",
    "#### (Not necessary if you've already compiled them in Exc 1c)"
   ]
  },
  {
   "cell_type": "code",
   "execution_count": 1,
   "metadata": {
    "collapsed": false
   },
   "outputs": [
    {
     "name": "stdout",
     "output_type": "stream",
     "text": [
      "/Users/wfpodlaski/Dropbox/Code/ocns2019_simulatingdendrites\n",
      "Traub.mod h.mod ka.mod\n",
      "Traub.mod h.mod ka.mod\n",
      "\"/Applications/NEURON-7.7/nrn/share/nrn/libtool\" --tag=CC --mode=compile gcc -DHAVE_CONFIG_H  -I. -I.. -I\"/Applications/NEURON-7.7/nrn/include/nrn\" -I\"/Applications/NEURON-7.7/nrn/x86_64/lib\"      -g -O2 -c -o mod_func.lo mod_func.c\n",
      "libtool: compile:  gcc -DHAVE_CONFIG_H -I. -I.. -I/Applications/NEURON-7.7/nrn/include/nrn -I/Applications/NEURON-7.7/nrn/x86_64/lib -g -O2 -c mod_func.c  -fno-common -DPIC -o .libs/mod_func.o\n",
      "\"/Applications/NEURON-7.7/nrn/share/nrn/libtool\" --tag=CC --mode=link gcc -module  -g -O2    -headerpad_max_install_names -o libnrnmech.la -rpath \"/Applications/NEURON-7.7/nrn/x86_64/lib\"  Traub.lo h.lo ka.lo mod_func.lo  -L\"/Applications/NEURON-7.7/nrn/x86_64/lib\" -lnrnoc -loc -lmemacs  -lscopmath -lsparse13 -lreadline -lncurses -L\"/Applications/NEURON-7.7/nrn/x86_64/lib\" -lnrniv -livoc -lneuron_gnu -lmeschach -lsundials       \n",
      "libtool: link: rm -fr  .libs/libnrnmech.0.so .libs/libnrnmech.la .libs/libnrnmech.lai .libs/libnrnmech.so\n",
      "libtool: link: gcc -Wl,-undefined -Wl,dynamic_lookup -o .libs/libnrnmech.0.so -bundle  .libs/Traub.o .libs/h.o .libs/ka.o .libs/mod_func.o   -L/Applications/NEURON-7.7/nrn/x86_64/lib /Applications/NEURON-7.7/nrn/x86_64/lib/libnrnoc.dylib /Applications/NEURON-7.7/nrn/x86_64/lib/liboc.dylib -L/usr/X11/lib -lX11 /Applications/NEURON-7.7/nrn/x86_64/lib/libmemacs.dylib /Applications/NEURON-7.7/nrn/x86_64/lib/libscopmath.dylib /Applications/NEURON-7.7/nrn/x86_64/lib/libsparse13.dylib /Applications/NEURON-7.7/nrn/x86_64/lib/libreadline.dylib -lncurses /Applications/NEURON-7.7/nrn/x86_64/lib/libnrniv.dylib /Applications/NEURON-7.7/nrn/x86_64/lib/libivoc.dylib /Applications/NEURON-7.7/nrn/x86_64/lib/libneuron_gnu.dylib /Applications/NEURON-7.7/nrn/x86_64/lib/libmeschach.dylib /Applications/NEURON-7.7/nrn/x86_64/lib/libsundials.dylib  -g -O2  \n",
      "libtool: link: (cd \".libs\" && rm -f \"libnrnmech.so\" && ln -s \"libnrnmech.0.so\" \"libnrnmech.so\")\n",
      "libtool: link: ( cd \".libs\" && rm -f \"libnrnmech.la\" && ln -s \"../libnrnmech.la\" \"libnrnmech.la\" )\n",
      "Successfully created x86_64/special\n"
     ]
    }
   ],
   "source": [
    "%%bash\n",
    "nrnivmodl  # Compile NEURON model (for Linux/Mac users)\n",
    "# For windows users: type \"mknrndll\" in the start menu and navigate to the folder with the .mod files and press enter."
   ]
  },
  {
   "cell_type": "code",
   "execution_count": 2,
   "metadata": {
    "collapsed": true
   },
   "outputs": [],
   "source": [
    "# -*- coding: utf-8 -*-\n",
    "from neuron import h, gui\n",
    "from matplotlib import pyplot as plt\n",
    "import numpy as np\n",
    "% matplotlib inline\n",
    "\n",
    "# Simulation parameters\n",
    "h.tstop = 100               # ms\n",
    "h.dt = 0.1                  # ms\n",
    "h.steps_per_ms = 10         # For plotting-should be compartible with dt\n",
    "h.v_init = -65              # initial membrane potential\n",
    "fs = 14                     # font size for plots"
   ]
  },
  {
   "cell_type": "markdown",
   "metadata": {},
   "source": [
    "### Define the morphology and passive conductances"
   ]
  },
  {
   "cell_type": "code",
   "execution_count": 3,
   "metadata": {
    "collapsed": false
   },
   "outputs": [
    {
     "data": {
      "text/plain": [
       "dend1"
      ]
     },
     "execution_count": 3,
     "metadata": {},
     "output_type": "execute_result"
    }
   ],
   "source": [
    "# Create a soma and two dendrites and connect them.\n",
    "soma=h.Section(name='soma')\n",
    "dend0, dend1 = [h.Section(name=n) for n in ['dend0', 'dend1']]\n",
    "\n",
    "# Define properties of soma\n",
    "soma.diam = 20   # um\n",
    "soma.L = 200     # um\n",
    "soma.Ra = 100    # Axial resistance in Ohm * cm\n",
    "soma.cm = 1      # specific membrane capacitance, capacitance per unit of membrane, uF/cm^2   \n",
    "soma.nseg=1\n",
    "\n",
    "soma.insert('pas')\n",
    "for seg in soma: \n",
    "    seg.pas.e= -65\n",
    "    seg.pas.g= 0.0001\n",
    "\n",
    "# Define properties of dend0\n",
    "dend0.diam = 5\n",
    "dend0.L = 500\n",
    "dend0.nseg=11\n",
    "dend0.cm = 1\n",
    "dend0.Ra = 100\n",
    "\n",
    "dend0.insert('pas')      #Insert passive (leak) channels\n",
    "for seg in dend0:\n",
    "    seg.pas.e= -65\n",
    "    seg.pas.g= 0.0001\n",
    "\n",
    "# Define properties of dend1\n",
    "dend1.diam = 3\n",
    "dend1.L = 200\n",
    "dend1.nseg=13\n",
    "dend1.cm = 1\n",
    "dend1.Ra = 100\n",
    "\n",
    "dend1.insert('pas')      #Insert passive (leak) channels\n",
    "for seg in dend1:\n",
    "    seg.pas.e= -65\n",
    "    seg.pas.g= 0.0001\n",
    "    \n",
    "# connect the compartments together\n",
    "dend0.connect(soma(0),0)        #Connect the 0 point of dendrite 0 to the zero point of the soma\n",
    "dend1.connect(dend0(1),0)  "
   ]
  },
  {
   "cell_type": "markdown",
   "metadata": {},
   "source": [
    "### Insert KA and IH currents\n",
    "#### (Note: max conductances (ghdbar, gbar) are initially set to zero, so the model remains passive)"
   ]
  },
  {
   "cell_type": "code",
   "execution_count": 4,
   "metadata": {
    "collapsed": false
   },
   "outputs": [],
   "source": [
    "soma.insert('hd')\n",
    "soma.insert('ka')\n",
    "for seg in soma: \n",
    "    seg.hd.ghdbar = 0.0  # Sodium conductance in S/cm2\n",
    "    seg.ka.gbar = 0.0\n",
    "    seg.hd.ehd = -30.\n",
    "    seg.ek = -90.\n",
    "    \n",
    "dend0.insert('hd')\n",
    "dend0.insert('ka')\n",
    "for seg in dend0: \n",
    "    seg.hd.ghdbar = 0.0  # Sodium conductance in S/cm2\n",
    "    seg.ka.gbar = 0.0\n",
    "    seg.hd.ehd = -30.\n",
    "    seg.ek = -90.\n",
    "    \n",
    "dend1.insert('hd')\n",
    "dend1.insert('ka')\n",
    "for seg in dend1: \n",
    "    seg.hd.ghdbar = 0.0  # Sodium conductance in S/cm2\n",
    "    seg.ka.gbar = 0.0\n",
    "    seg.hd.ehd = -30.\n",
    "    seg.ek = -90."
   ]
  },
  {
   "cell_type": "markdown",
   "metadata": {},
   "source": [
    "### Define the stimulation protocol - one synapse at the soma and another at the dendrite"
   ]
  },
  {
   "cell_type": "code",
   "execution_count": 5,
   "metadata": {
    "collapsed": true
   },
   "outputs": [],
   "source": [
    "#------------------------------------------------------\n",
    "#========== Synaptic stimulation.\n",
    "#Place the synapse to the middle (0.5) of the soma, ...\n",
    "Syn_dend=h.ExpSyn(dend1(0.5))\n",
    "Syn_dend.e=0                     #Reverse potential of the synapse (mV)\n",
    "Syn_soma=h.ExpSyn(soma(0.5))\n",
    "Syn_soma.e=0                     #Reverse potential of the synapse (mV)\n",
    "\n",
    "#========== ...create an artificial spike (an \"event\" to be delivered to the synapse)...\n",
    "ns_dend=h.NetStim(0.5)\n",
    "ns_dend.start = 45      # Dendritic synapse fires at 45 msec\n",
    "ns_dend.number = 1 \n",
    "ns_soma=h.NetStim(0.5)\n",
    "ns_soma.start = 50      # Somatic synapse fires at 50 msec\n",
    "ns_soma.number = 1 \n",
    "\n",
    "#... and connect the event to the synapse.\n",
    "nc_dend = h.NetCon(ns_dend,Syn_dend, -10, 0, 0.035*5)\n",
    "nc_soma = h.NetCon(ns_soma,Syn_soma, -10, 0, 0.035*3)"
   ]
  },
  {
   "cell_type": "markdown",
   "metadata": {},
   "source": [
    "### Example simulation\n",
    "#### Calculate and print in terminal the depolarization at the soma and at the middle part of the distal dendrite (dend1)"
   ]
  },
  {
   "cell_type": "code",
   "execution_count": 6,
   "metadata": {
    "collapsed": false
   },
   "outputs": [
    {
     "name": "stdout",
     "output_type": "stream",
     "text": [
      "('Somatic depolarization is ', 8.11, ' mV')\n",
      "('Raw somatic depolarization is ', -56.89, ' mV')\n",
      "('Distal Dendritic depolarization is', 34.37, 'mV')\n",
      "('Somatic depolarization is ', 7.35, ' mV')\n",
      "('Raw somatic depolarization is ', -57.63, ' mV')\n",
      "('Distal Dendritic depolarization is', 36.54, 'mV')\n"
     ]
    },
    {
     "data": {
      "image/png": "[encoded data removed]",
      "text/plain": [
       "<Figure size 800x400 with 1 Axes>"
      ]
     },
     "metadata": {},
     "output_type": "display_data"
    }
   ],
   "source": [
    "vsoma_vec = h.Vector()        # Membrane potential vector\n",
    "vdend1_vec = h.Vector()        # Membrane potential vector\n",
    "t_vec = h.Vector()        # Time stamp vector\n",
    "vsoma_vec.record(soma(0.5)._ref_v)\n",
    "vdend1_vec.record(dend1(0.5)._ref_v)\n",
    "t_vec.record(h._ref_t)\n",
    "\n",
    "# ------------------------------\n",
    "# STEP 1: simulate passive model\n",
    "# ------------------------------\n",
    "\n",
    "h.run()\n",
    "\n",
    "print ('Somatic depolarization is ',  round(vsoma_vec.max()-vsoma_vec.min(),2), ' mV')\n",
    "print ('Raw somatic depolarization is ',  round(vsoma_vec.max(),2), ' mV')\n",
    "print ('Distal Dendritic depolarization is', round(vdend1_vec.max()-vdend1_vec.min(),2), 'mV')\n",
    "\n",
    "vsoma_vec.remove(0,200)\n",
    "vdend1_vec.remove(0,200)\n",
    "t_vec.remove(0,200)\n",
    "\n",
    "# Plot results\n",
    "plt.figure(figsize=(8,4)) # Default figsize is (8,6)\n",
    "plt.plot(t_vec, vsoma_vec, color='black')\n",
    "plt.plot(t_vec, vdend1_vec, color='red')\n",
    "\n",
    "# -----------------------------\n",
    "# STEP 2: simulate active model\n",
    "# -----------------------------\n",
    "\n",
    "# now add the currents and change the synaptic weight\n",
    "nc_dend.weight[0] = 0.039*5\n",
    "nc_soma.weight[0] = 0.039*3\n",
    "for seg in soma: \n",
    "    seg.hd.ghdbar = 0.00005  # Sodium conductance in S/cm2\n",
    "    seg.ka.gbar = 0.0005\n",
    "for seg in dend0: \n",
    "    seg.hd.ghdbar = 0.00005  # Sodium conductance in S/cm2\n",
    "    seg.ka.gbar = 0.005\n",
    "for seg in dend1: \n",
    "    seg.hd.ghdbar = 0.00005  # Sodium conductance in S/cm2\n",
    "    seg.ka.gbar = 0.05\n",
    "    \n",
    "h.run()\n",
    "\n",
    "vsoma_vec.remove(0,200)\n",
    "vdend1_vec.remove(0,200)\n",
    "t_vec.remove(0,200)\n",
    "\n",
    "# Plot results\n",
    "plt.plot(t_vec, vsoma_vec, '--', color='black')\n",
    "plt.plot(t_vec, vdend1_vec, '--', color='red')\n",
    "plt.xlabel('time (ms)', fontsize=fs)\n",
    "plt.ylabel('mV', fontsize=fs)\n",
    "plt.legend(('passive soma', 'passive dend', 'active soma', 'active dend'), fontsize=fs)\n",
    "\n",
    "print ('Somatic depolarization is ',  round(vsoma_vec.max()-vsoma_vec.min(),2), ' mV')\n",
    "print ('Raw somatic depolarization is ',  round(vsoma_vec.max(),2), ' mV')\n",
    "print ('Distal Dendritic depolarization is', round(vdend1_vec.max()-vdend1_vec.min(),2), 'mV')"
   ]
  },
  {
   "cell_type": "markdown",
   "metadata": {},
   "source": [
    "### Task 1: simulate a passive dendrite over different timing intervals between the dendritic input and somatic input in order to measure the peak somatic depolarization"
   ]
  },
  {
   "cell_type": "code",
   "execution_count": 7,
   "metadata": {
    "collapsed": false
   },
   "outputs": [],
   "source": [
    "# set the active conductances to zero\n",
    "for seg in dend1: \n",
    "    seg.hd.ghdbar = 0.0  # Sodium conductance in S/cm2\n",
    "    seg.ka.gbar = 0.0\n",
    "for seg in dend0: \n",
    "    seg.hd.ghdbar = 0.0  # Sodium conductance in S/cm2\n",
    "    seg.ka.gbar = 0.0\n",
    "for seg in soma: \n",
    "    seg.hd.ghdbar = 0.0  # Sodium conductance in S/cm2\n",
    "    seg.ka.gbar = 0.0\n",
    "\n",
    "nc_dend.weight[0] = 0.035*5\n",
    "nc_soma.weight[0] = 0.035*3\n",
    "    \n",
    "ih_vec = h.Vector()        # Membrane potential vector\n",
    "ika_vec = h.Vector()        # Membrane potential vector\n",
    "ika_vec.record(dend0(0.5)._ref_ik)\n",
    "\n",
    "t_diff = np.linspace(-30,10,81)\n",
    "\n",
    "# run a for loop over the vector t_diff and measure the depolarization at the soma\n",
    "# (i.e., round(vsoma_vec.max()-vsoma_vec.min(),2))\n",
    "\n",
    "# plot the results as a function of t_diff\n"
   ]
  },
  {
   "cell_type": "markdown",
   "metadata": {},
   "source": [
    "### Task 2: repeat task 1, but now with KA and IH currents. Plot both together to see the difference."
   ]
  },
  {
   "cell_type": "code",
   "execution_count": 8,
   "metadata": {
    "collapsed": false
   },
   "outputs": [],
   "source": [
    "# Re-add active conductances and change the weights\n",
    "nc_dend.weight[0] = 0.039*5\n",
    "nc_soma.weight[0] = 0.039*3\n",
    "\n",
    "for seg in dend1: \n",
    "    seg.hd.ghdbar = 0.00005\n",
    "    seg.ka.gbar = 0.05\n",
    "    seg.hd.ehd = -30.\n",
    "    seg.ek = -90.\n",
    "for seg in dend0: \n",
    "    seg.hd.ghdbar = 0.00005\n",
    "    seg.ka.gbar = 0.005\n",
    "    seg.hd.ehd = -30.\n",
    "    seg.ek = -90.\n",
    "for seg in soma: \n",
    "    seg.hd.ghdbar = 0.00005\n",
    "    seg.ka.gbar = 0.0005\n",
    "    seg.hd.ehd = -30.\n",
    "    seg.ek = -90.\n",
    "    \n",
    "# loop over different timings\n",
    "t_diff = np.linspace(-30,10,81)\n"
   ]
  },
  {
   "cell_type": "markdown",
   "metadata": {},
   "source": [
    "### Now, we include sodium and potassium currents at the soma in order to cause an action potential\n",
    "### Example simulation:"
   ]
  },
  {
   "cell_type": "code",
   "execution_count": 9,
   "metadata": {
    "collapsed": false
   },
   "outputs": [
    {
     "data": {
      "image/png": "[encoded data removed]",
      "text/plain": [
       "<Figure size 800x400 with 1 Axes>"
      ]
     },
     "metadata": {},
     "output_type": "display_data"
    }
   ],
   "source": [
    "# ----------------------------------------------------------------------------------\n",
    "# STEP 1: Add HH-like conductances to soma and simulate model with PASSIVE dendrites\n",
    "# ----------------------------------------------------------------------------------\n",
    "\n",
    "# Add HH-like conductances to the soma\n",
    "soma.insert('traub')\n",
    "for seg in soma: \n",
    "    seg.traub.gNabar = 0.1  # Sodium conductance in S/cm2\n",
    "    seg.traub.gKbar = 0.045  # Potassium conductance in S/cm2\n",
    "    seg.traub.gLbar = 0.000014    # Leak conductance in S/cm2\n",
    "    seg.traub.eL = -65.\n",
    "    seg.traub.eK = -85.  # Reversal potential in mV\n",
    "    seg.traub.eNa = 90.\n",
    "    seg.traub.v_shft += 8.5\n",
    "\n",
    "ns_dend.start = 49      \n",
    "ns_dend.number = 1 \n",
    "ns_soma.start = 50 \n",
    "ns_soma.number = 1 \n",
    "\n",
    "# Remove active conductances from the dendrites to compare with passive case\n",
    "nc_dend.weight[0] = 0.035*5\n",
    "nc_soma.weight[0] = 0.035*3\n",
    "for seg in dend1: \n",
    "    seg.hd.ghdbar = 0.0  # Sodium conductance in S/cm2\n",
    "    seg.ka.gbar = 0.0\n",
    "for seg in dend0: \n",
    "    seg.hd.ghdbar = 0.0  # Sodium conductance in S/cm2\n",
    "    seg.ka.gbar = 0.0\n",
    "for seg in soma:\n",
    "    seg.hd.ghdbar = 0.0  # Sodium conductance in S/cm2\n",
    "    seg.ka.gbar = 0.0\n",
    "\n",
    "h.run()\n",
    "\n",
    "vsoma_vec.remove(0,200)\n",
    "vdend1_vec.remove(0,200)\n",
    "t_vec.remove(0,200)\n",
    "\n",
    "plt.figure(figsize=(8,4)) # Default figsize is (8,6)\n",
    "plt.plot(t_vec, vsoma_vec, color='black')\n",
    "plt.plot(t_vec, vdend1_vec, color='red')\n",
    "\n",
    "# ----------------------------------------------------------------------------------\n",
    "# STEP 2: Add back active conductances to the dendrites and repeat\n",
    "# ----------------------------------------------------------------------------------\n",
    "\n",
    "nc_dend.weight[0] = 0.039*5\n",
    "nc_soma.weight[0] = 0.039*3\n",
    "for seg in dend1: \n",
    "    seg.hd.ghdbar = 0.00005  # Sodium conductance in S/cm2\n",
    "    seg.ka.gbar = 0.05\n",
    "    seg.hd.ehd = -30.\n",
    "    seg.ek = -90.\n",
    "for seg in dend0: \n",
    "    seg.hd.ghdbar = 0.00005  # Sodium conductance in S/cm2\n",
    "    seg.ka.gbar = 0.005\n",
    "    seg.hd.ehd = -30.\n",
    "    seg.ek = -90.\n",
    "for seg in soma:\n",
    "    seg.hd.ghdbar = 0.00005  # Sodium conductance in S/cm2\n",
    "    seg.ka.gbar = 0.0005\n",
    "    seg.hd.ehd = -30.\n",
    "    seg.ek = -90.\n",
    "\n",
    "h.run()\n",
    "\n",
    "vsoma_vec.remove(0,200)\n",
    "vdend1_vec.remove(0,200)\n",
    "t_vec.remove(0,200)\n",
    "plt.plot(t_vec, vsoma_vec, '--', color='black')\n",
    "plt.plot(t_vec, vdend1_vec, '--', color='red')\n",
    "plt.legend(('soma (passive)', 'dend1 (passive)', 'soma (active)','dend1 (active)'),fontsize=fs)\n",
    "plt.xlabel('time (ms)',fontsize=fs)\n",
    "plt.ylabel('mV',fontsize=fs)\n",
    "plt.tight_layout()"
   ]
  },
  {
   "cell_type": "markdown",
   "metadata": {},
   "source": [
    "### Task 3: Reproduce the results from tasks 1 and 2 with AP mechanisms in the soma\n",
    "#### Step 1: Repeat task 1 (passive dendrite) by looping over t_diff"
   ]
  },
  {
   "cell_type": "code",
   "execution_count": 10,
   "metadata": {
    "collapsed": false
   },
   "outputs": [],
   "source": [
    "# set the active conductances to zero\n",
    "for seg in dend1: \n",
    "    seg.hd.ghdbar = 0.0  # Sodium conductance in S/cm2\n",
    "    seg.ka.gbar = 0.0\n",
    "for seg in dend0: \n",
    "    seg.hd.ghdbar = 0.0  # Sodium conductance in S/cm2\n",
    "    seg.ka.gbar = 0.0\n",
    "for seg in soma: \n",
    "    seg.hd.ghdbar = 0.0  # Sodium conductance in S/cm2\n",
    "    seg.ka.gbar = 0.0\n",
    "\n",
    "nc_dend.weight[0] = 0.035*5\n",
    "nc_soma.weight[0] = 0.035*3\n",
    "    \n",
    "ih_vec = h.Vector()        # Membrane potential vector\n",
    "ika_vec = h.Vector()        # Membrane potential vector\n",
    "ika_vec.record(dend0(0.5)._ref_ik)\n",
    "\n",
    "t_diff = np.linspace(-30,10,81)\n",
    "\n",
    "# loop here\n",
    "\n",
    "# plot here\n"
   ]
  },
  {
   "cell_type": "markdown",
   "metadata": {},
   "source": [
    "#### Step 2: Repeat task 2 (including KA current) and again loop over t_diff. Plot the results."
   ]
  },
  {
   "cell_type": "code",
   "execution_count": 11,
   "metadata": {
    "collapsed": false
   },
   "outputs": [],
   "source": [
    "nc_dend.weight[0] = 0.039*5\n",
    "nc_soma.weight[0] = 0.039*3\n",
    "\n",
    "for seg in dend1: \n",
    "    seg.hd.ghdbar = 0.00005\n",
    "    seg.ka.gbar = 0.05\n",
    "    seg.hd.ehd = -30.\n",
    "    seg.ek = -90.\n",
    "for seg in dend0: \n",
    "    seg.hd.ghdbar = 0.00005\n",
    "    seg.ka.gbar = 0.005\n",
    "    seg.hd.ehd = -30.\n",
    "    seg.ek = -90.\n",
    "for seg in soma: \n",
    "    seg.hd.ghdbar = 0.00005\n",
    "    seg.ka.gbar = 0.0005\n",
    "    seg.hd.ehd = -30.\n",
    "    seg.ek = -90.\n",
    "    \n",
    "# loop over different timings\n",
    "t_diff = np.linspace(-30,10,81)\n",
    "\n",
    "# plot results from previous cell and this one together\n"
   ]
  },
  {
   "cell_type": "markdown",
   "metadata": {},
   "source": [
    "### Hint: you should see something like this!\n",
    "<img src=\"migliore_shepherd_2002.png\" alt=\"Drawing\" style=\"width: 500px;\"/>\n",
    "#### Migliore & Shepherd 2002"
   ]
  }
 ],
 "metadata": {
  "anaconda-cloud": {},
  "kernelspec": {
   "display_name": "Python [Root]",
   "language": "python",
   "name": "Python [Root]"
  },
  "language_info": {
   "codemirror_mode": {
    "name": "ipython",
    "version": 2
   },
   "file_extension": ".py",
   "mimetype": "text/x-python",
   "name": "python",
   "nbconvert_exporter": "python",
   "pygments_lexer": "ipython2",
   "version": "2.7.6"
  }
 },
 "nbformat": 4,
 "nbformat_minor": 0
}

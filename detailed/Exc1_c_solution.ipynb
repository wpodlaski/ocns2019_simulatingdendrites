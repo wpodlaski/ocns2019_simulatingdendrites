{
 "cells": [
  {
   "cell_type": "markdown",
   "metadata": {},
   "source": [
    "## OCNS 2019, Simulating dendrites at different levels of abstraction.\n",
    "## Exercise 1c: Integrating inputs with active dendritic conductances\n",
    "### In this exercise we will see how inputs can be amplified by active sodium conductances"
   ]
  },
  {
   "cell_type": "markdown",
   "metadata": {},
   "source": [
    "### compile ion channel models (.mod files)"
   ]
  },
  {
   "cell_type": "code",
   "execution_count": null,
   "metadata": {
    "collapsed": false
   },
   "outputs": [],
   "source": [
    "%%bash\n",
    "nrnivmodl  # Compile NEURON model (for Linux/Mac users)\n",
    "# For windows users: type \"mknrndll\" in the start menu and navigate to the folder with the .mod files and press enter."
   ]
  },
  {
   "cell_type": "code",
   "execution_count": null,
   "metadata": {
    "collapsed": true
   },
   "outputs": [],
   "source": [
    "# -*- coding: utf-8 -*-\n",
    "from neuron import h, gui\n",
    "from matplotlib import pyplot as plt\n",
    "% matplotlib inline\n",
    "\n",
    "# Simulation parameters\n",
    "h.tstop = 100               # ms\n",
    "h.dt = 0.1                  # ms\n",
    "h.steps_per_ms = 10         # For plotting-should be compartible with dt\n",
    "h.v_init = -65              # initial membrane potential\n",
    "fs = 14                     # font size for plots"
   ]
  },
  {
   "cell_type": "markdown",
   "metadata": {},
   "source": [
    "### Create a soma and two dendrites, define their anatomical and biophysical properties and connect them."
   ]
  },
  {
   "cell_type": "code",
   "execution_count": null,
   "metadata": {
    "collapsed": false
   },
   "outputs": [],
   "source": [
    "# Create a soma and two dendrites and connect them.\n",
    "soma=h.Section(name='soma')\n",
    "dend0, dend1 = [h.Section(name=n) for n in ['dend0', 'dend1']]\n",
    "\n",
    "# Define properties of soma\n",
    "soma.diam = 20        # um\n",
    "soma.L = 200          # um\n",
    "soma.Ra = 100         # Axial resistance in Ohm * cm\n",
    "soma.cm = 1           # specific membrane capacitance, capacitance per unit of membrane, uF/cm^2   \n",
    "soma.nseg = 1         # number of segments (spatial grid)\n",
    "\n",
    "# Insert only passive conductance into soma (in contrast to previous two exercises)    \n",
    "soma.insert('pas')\n",
    "for seg in soma: \n",
    "    seg.pas.e= -65        # Reversal potential in mV\n",
    "    seg.pas.g= 0.0003     # Leak conductance in S/cm2\n",
    "\n",
    "# Define properties of dend0\n",
    "dend0.diam = 5\n",
    "dend0.L = 500\n",
    "dend0.nseg=11\n",
    "dend0.cm = 1\n",
    "dend0.Ra = 100\n",
    "\n",
    "# Insert passive conductance into dend0\n",
    "dend0.insert('pas')\n",
    "for seg in dend0:\n",
    "    seg.pas.e= -65\n",
    "    seg.pas.g= 0.0003\n",
    "    \n",
    "# Define properties of dend1\n",
    "dend1.diam = 3\n",
    "dend1.L = 200\n",
    "dend1.nseg=13\n",
    "dend1.cm = 1\n",
    "dend1.Ra = 100\n",
    "\n",
    "# dend1 will have active conductances! - Traub.mod contains HH-like Na and K conductances, as well as leak.\n",
    "dend1.insert('traub')\n",
    "for seg in dend1:\n",
    "    seg.traub.gNabar = 0.1      # Sodium conductance in S/cm2\n",
    "    seg.traub.gKbar = 0.045     # Potassium conductance in S/cm2\n",
    "    seg.traub.gLbar = 0.0003    # Leak conductance in S/cm2\n",
    "    seg.traub.eL = -65.         # Reversal potential for leak in mV\n",
    "    seg.traub.eK = -70.         # Reversal potential for potassium in mV\n",
    "    seg.traub.eNa = 90.         # Reversal potential for sodium in mV\n",
    "    seg.traub.v_shft += 9.5     # Shifts the activation curve for sodium\n",
    "\n",
    "# Connect the three compartments together\n",
    "dend0.connect(soma(0),0)    # 0 point of dendrite 0 to the zero point of the soma     \n",
    "dend1.connect(dend0(1),0)   # 0 point of dendrite 1 to the zero point of dendrite 0 "
   ]
  },
  {
   "cell_type": "markdown",
   "metadata": {},
   "source": [
    "### Synaptic Stimulation"
   ]
  },
  {
   "cell_type": "code",
   "execution_count": null,
   "metadata": {
    "collapsed": true
   },
   "outputs": [],
   "source": [
    "Syn=h.ExpSyn(dend1(0.5))     # Place the synapse to the middle (0.5) of the soma\n",
    "Syn.e=0                     # Reverse potential of the synapse (mV)\n",
    "\n",
    "# Create an artificial spike using h.NetStim() (an \"event\" to be delivered to the synapse)...\n",
    "ns=h.NetStim(0.5)\n",
    "ns.start = 50         # time when the spike arrives (in msec)     \n",
    "ns.number = 1         # number of spikes (just one)\n",
    "\n",
    "# ... and connect the event to the synapse.\n",
    "nc = h.NetCon(ns, Syn, -10, 2, 0.008*5)   # function arguments: NetCon(source, target, threshold, delay, weight)"
   ]
  },
  {
   "cell_type": "markdown",
   "metadata": {
    "collapsed": true
   },
   "source": [
    "### Example simulation\n",
    "#### Compare the depolarization at the soma with and without active conductances in the dendrites"
   ]
  },
  {
   "cell_type": "code",
   "execution_count": null,
   "metadata": {
    "collapsed": false
   },
   "outputs": [],
   "source": [
    "# record the necessary variables\n",
    "vsoma_vec = h.Vector()         # Membrane potential vector\n",
    "vdend1_vec = h.Vector()        # Membrane potential vector\n",
    "vdend0_vec = h.Vector()        # Membrane potential vector\n",
    "iNa_vec = h.Vector()           # Sodium current vector\n",
    "t_vec = h.Vector()             # Time stamp vector\n",
    "vsoma_vec.record(soma(0.5)._ref_v)\n",
    "vdend1_vec.record(dend1(0.5)._ref_v)\n",
    "vdend0_vec.record(dend0(0.5)._ref_v)\n",
    "iNa_vec.record(dend1(0.5).traub._ref_iNa)\n",
    "t_vec.record(h._ref_t)\n",
    "\n",
    "# --------------------------------------------------------------------------------------------------------------\n",
    "# STEP 1: Run the simulation WITH active conductances as defined above\n",
    "# --------------------------------------------------------------------------------------------------------------\n",
    "\n",
    "h.run()\n",
    "\n",
    "# Remove the first 20 msec of the plot (to make it look nice)\n",
    "vsoma_vec.remove(0,200)\n",
    "vdend1_vec.remove(0,200)\n",
    "vdend0_vec.remove(0,200)\n",
    "iNa_vec.remove(0,200)\n",
    "t_vec.remove(0,200)\n",
    "\n",
    "# Plot results\n",
    "plt.figure(figsize=(8,8)) # Default figsize is (8,6)\n",
    "plt.subplot(3,1,1)\n",
    "plt.plot(t_vec, vsoma_vec, color='black')\n",
    "plt.subplot(3,1,2)\n",
    "plt.plot(t_vec, vdend1_vec, color='black')\n",
    "plt.plot(t_vec, vdend0_vec, '--',color='black')\n",
    "plt.subplot(3,1,3)\n",
    "plt.plot(t_vec, iNa_vec, color='black')\n",
    "\n",
    "print ('Active case: somatic depolarization is ',  round(vsoma_vec.max()-vsoma_vec.min(),2), ' mV')\n",
    "print ('Active case: distal dendritic depolarization is', round(vdend1_vec.max()-vdend1_vec.min(),2), 'mV')\n",
    "\n",
    "# --------------------------------------------------------------------------------------------------------------\n",
    "# STEP 2: Run the simulation WITHOUT active conductances by setting max conductances (gbar) to zero for Na and K\n",
    "# --------------------------------------------------------------------------------------------------------------\n",
    "\n",
    "# remove active conductances\n",
    "for seg in dend1:\n",
    "    seg.traub.gNabar = 0.0  # Sodium conductance in S/cm2\n",
    "    seg.traub.gKbar = 0.0  # Potassium conductance in S/cm2\n",
    "\n",
    "h.run()\n",
    "\n",
    "# remove first 20 msec for plotting\n",
    "vsoma_vec.remove(0,200)\n",
    "vdend1_vec.remove(0,200)\n",
    "vdend0_vec.remove(0,200)\n",
    "iNa_vec.remove(0,200)\n",
    "t_vec.remove(0,200)\n",
    "\n",
    "# Plot the results\n",
    "plt.subplot(3,1,1)\n",
    "plt.plot(t_vec, vsoma_vec, color='red')\n",
    "plt.legend(('active','passive'),fontsize=fs)\n",
    "plt.ylabel('soma (mV)',fontsize=fs)\n",
    "plt.subplot(3,1,2)\n",
    "plt.plot(t_vec, vdend1_vec, color='red')\n",
    "plt.plot(t_vec, vdend0_vec, '--',color='red')\n",
    "plt.legend(('active dend1','active dend0','passive dend1','passive dend0'),fontsize=fs)\n",
    "plt.ylabel('dendrites (mV)',fontsize=fs)\n",
    "plt.subplot(3,1,3)\n",
    "plt.plot(t_vec, iNa_vec, color='red')\n",
    "plt.legend(('active','passive'),fontsize=fs)\n",
    "plt.ylabel('sodium current (nA)',fontsize=fs)\n",
    "plt.xlabel('time (ms)')\n",
    "plt.ylabel('sodium current (nA)')\n",
    "\n",
    "print ('Passive case: somatic depolarization is ',  round(vsoma_vec.max()-vsoma_vec.min(),2), ' mV')\n",
    "print ('Passive case: distal dendritic depolarization is', round(vdend1_vec.max()-vdend1_vec.min(),2), 'mV')"
   ]
  },
  {
   "cell_type": "markdown",
   "metadata": {},
   "source": [
    "### Task: follow the previous exercise and plot the expected versus actual somatic depolarization\n",
    "### (Hint: it should be supra-linear!)"
   ]
  },
  {
   "cell_type": "code",
   "execution_count": null,
   "metadata": {
    "collapsed": false
   },
   "outputs": [],
   "source": [
    "# add the active conductance back to dend1\n",
    "for seg in dend1:\n",
    "    seg.traub.gNabar = 0.1      # Sodium conductance in S/cm2\n",
    "    seg.traub.gKbar = 0.045     # Potassium conductance in S/cm2\n",
    "\n",
    "actual_epsp=[]\n",
    "for i in range(10):\n",
    "    nc = h.NetCon(ns,Syn, -10, 2, 0.008*(i+1))\n",
    "   \n",
    "    h.run()\n",
    "    \n",
    "    vsoma_vec.remove(0,200)\n",
    "    vdend1_vec.remove(0,200)\n",
    "    t_vec.remove(0,200)\n",
    "    actual_epsp.append(round(vsoma_vec.max()-vsoma_vec.min(),2))\n",
    "                  \n",
    "expected_epsp=[actual_epsp[0]*i for i in range(1,11)]\n",
    "\n",
    "print(expected_epsp)\n",
    "plt.figure(figsize=(8,4)) \n",
    "plt.plot(expected_epsp, actual_epsp, color='red')\n",
    "plt.plot(expected_epsp, expected_epsp,'--', color='black')\n",
    "plt.xlabel('Expected EPSP-Linear Summatin (mV)',fontsize=fs)\n",
    "plt.ylabel('Expected EPSP (mV)',fontsize=fs)\n",
    "plt.tight_layout()"
   ]
  },
  {
   "cell_type": "code",
   "execution_count": null,
   "metadata": {
    "collapsed": true
   },
   "outputs": [],
   "source": []
  }
 ],
 "metadata": {
  "anaconda-cloud": {},
  "kernelspec": {
   "display_name": "Python [Root]",
   "language": "python",
   "name": "Python [Root]"
  },
  "language_info": {
   "codemirror_mode": {
    "name": "ipython",
    "version": 2
   },
   "file_extension": ".py",
   "mimetype": "text/x-python",
   "name": "python",
   "nbconvert_exporter": "python",
   "pygments_lexer": "ipython2",
   "version": "2.7.6"
  }
 },
 "nbformat": 4,
 "nbformat_minor": 2
}

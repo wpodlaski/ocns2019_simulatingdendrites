{
 "cells": [
  {
   "cell_type": "code",
   "execution_count": 5,
   "metadata": {
    "collapsed": true
   },
   "outputs": [],
   "source": [
    "# -*- coding: utf-8 -*-\n",
    "\"\"\"\n",
    " OCNS 2019, Dendritic Computations\n",
    " How inputs interact\n",
    "\"\"\"\n",
    "from neuron import h, gui\n",
    "from matplotlib import pyplot\n",
    "\n",
    "#Simulation parameters\t\n",
    "h.tstop=100 \t\t        #ms\n",
    "h.dt=0.1\t\t\t        #ms\n",
    "h.steps_per_ms=10\t\t#For plotting-should be compartible with dt\n",
    "h.v_init=-65"
   ]
  },
  {
   "cell_type": "code",
   "execution_count": 9,
   "metadata": {},
   "outputs": [
    {
     "data": {
      "text/plain": [
       "dend3"
      ]
     },
     "execution_count": 9,
     "metadata": {},
     "output_type": "execute_result"
    }
   ],
   "source": [
    "#------------------------------------------------------\n",
    "#========== Create a soma and two dendrites. Connect them.\n",
    "soma=h.Section(name='soma')\n",
    "dend0, dend1, dend2,dend3 = [h.Section(name=n) for n in ['dend0', 'dend1', 'dend2', 'dend3']]\n",
    "\n",
    "# Define properties of soma\n",
    "soma.diam = 20\t#um\n",
    "soma.L = 200    \t#um\n",
    "soma.Ra = 100         # Axial resistance in Ohm * cm\n",
    "soma.cm = 1\t\t      #specific membrane capacitance, capacitance per unit of membrane, uF/cm^2   \n",
    "soma.nseg=1\t\n",
    "\t\t\n",
    "soma.insert('hh')\n",
    "for seg in soma: \n",
    "    seg.hh.gnabar = 0.05  # Sodium conductance in S/cm2\n",
    "    seg.hh.gkbar = 0.036  # Potassium conductance in S/cm2\n",
    "    seg.hh.gl = 0.0003    # Leak conductance in S/cm2\n",
    "    seg.hh.el = -65       # Reversal potential in mV\n",
    "\n",
    "# Define properties of dend0\n",
    "dend0.diam = 5\n",
    "dend0.L = 500\n",
    "dend0.nseg=11\n",
    "dend0.cm = 1\n",
    "dend0.Ra = 100\n",
    "\n",
    "dend0.insert('pas')      #Insert passive (leak) channels\n",
    "for seg in dend0:\n",
    "    seg.pas.e= -65\n",
    "    seg.pas.g= 0.0003\n",
    "\t\n",
    "# Define properties of dend1\n",
    "dend1.diam = 3\n",
    "dend1.L = 200\n",
    "dend1.nseg=13\n",
    "dend1.cm = 1\n",
    "dend1.Ra = 100\n",
    "\n",
    "dend1.insert('pas')      #Insert passive (leak) channels\n",
    "for seg in dend1:\n",
    "    seg.pas.e= -65\n",
    "    seg.pas.g= 0.0003\n",
    "    \n",
    "# Define properties of dend0\n",
    "dend2.diam = 5\n",
    "dend2.L = 500\n",
    "dend2.nseg=11\n",
    "dend2.cm = 1\n",
    "dend2.Ra = 100\n",
    "\n",
    "dend2.insert('pas')      #Insert passive (leak) channels\n",
    "for seg in dend2:\n",
    "    seg.pas.e= -65\n",
    "    seg.pas.g= 0.0003\n",
    "\t\n",
    "# Define properties of dend1\n",
    "dend3.diam = 3\n",
    "dend3.L = 200\n",
    "dend3.nseg=13\n",
    "dend3.cm = 1\n",
    "dend3.Ra = 100\n",
    "\n",
    "dend3.insert('pas')      #Insert passive (leak) channels\n",
    "for seg in dend3:\n",
    "    seg.pas.e= -65\n",
    "    seg.pas.g= 0.0003\n",
    "    \n",
    "\n",
    "dend0.connect(soma(0),0)        #Connect the 0 point of dendrite 0 to the zero point of the soma\n",
    "dend1.connect(dend0(1),0)  \n",
    "dend2.connect(soma(1),0)  \n",
    "dend3.connect(dend2(1),0) "
   ]
  },
  {
   "cell_type": "code",
   "execution_count": 10,
   "metadata": {},
   "outputs": [
    {
     "data": {
      "image/png": "[encoded data removed]",
      "text/plain": [
       "<matplotlib.figure.Figure at 0x17b6f30c358>"
      ]
     },
     "metadata": {},
     "output_type": "display_data"
    },
    {
     "name": "stdout",
     "output_type": "stream",
     "text": [
      "Somatic depolarization is  0.24  mV\n",
      "Distal Dendritic depolarization is 3.23 mV\n"
     ]
    }
   ],
   "source": [
    "#------------------------------------------------------\n",
    "#========== Synaptic stimulation.\n",
    "#Place the synapse to the middle (0.5) of the soma, ...\n",
    "Syn=h.ExpSyn(dend1(0.5))\n",
    "Syn.e=0                     #Reverse potential of the synapse (mV)\n",
    "\n",
    "#Place the synapse to the middle (0.5) of the soma, ...\n",
    "Syn1=h.ExpSyn(dend3(0.5))\n",
    "Syn1.e=0   \n",
    "#========== ...create an artificial spike (an \"event\" to be delivered to the synapse)...\n",
    "ns=h.NetStim(0.5)\n",
    "ns.start = 50      \n",
    "ns.number = 1  \n",
    "\n",
    "#... and connect the event to the synapse.\n",
    "nc = h.NetCon(ns,Syn, -10, 2, 0.008*1)\n",
    "nc1 = h.NetCon(ns,Syn1, -10, 2, 0.008*1)\n",
    "#Calculate and print in terminal the depolarization at the soma and at the middle part of the distal dendrite (dendrite[1])\n",
    "vsoma_vec = h.Vector()        # Membrane potential vector\n",
    "vdend1_vec = h.Vector()        # Membrane potential vector\n",
    "t_vec = h.Vector()        # Time stamp vector\n",
    "vsoma_vec.record(soma(0.5)._ref_v)\n",
    "vdend1_vec.record(dend1(0.5)._ref_v)\n",
    "t_vec.record(h._ref_t)\n",
    "\n",
    "h.run()\n",
    "\n",
    "vsoma_vec.remove(0,200)\n",
    "vdend1_vec.remove(0,200)\n",
    "t_vec.remove(0,200)\n",
    "pyplot.figure(figsize=(8,4)) # Default figsize is (8,6)\n",
    "soma_plot = pyplot.plot(t_vec, vsoma_vec, color='black')\n",
    "dend_plot = pyplot.plot(t_vec, vdend1_vec, color='red')\n",
    "pyplot.legend(soma_plot + dend_plot, ['soma', 'dend'])\n",
    "pyplot.xlabel('time (ms)')\n",
    "pyplot.ylabel('mV')\n",
    "pyplot.show()\n",
    "\n",
    "\n",
    "print ('Somatic depolarization is ',  round(vsoma_vec.max()-vsoma_vec.min(),2), ' mV')\n",
    "print ('Distal Dendritic depolarization is', round(vdend1_vec.max()-vdend1_vec.min(),2), 'mV')\n"
   ]
  },
  {
   "cell_type": "code",
   "execution_count": null,
   "metadata": {
    "collapsed": true
   },
   "outputs": [],
   "source": []
  }
 ],
 "metadata": {
  "kernelspec": {
   "display_name": "Python 3",
   "language": "python",
   "name": "python3"
  },
  "language_info": {
   "codemirror_mode": {
    "name": "ipython",
    "version": 3
   },
   "file_extension": ".py",
   "mimetype": "text/x-python",
   "name": "python",
   "nbconvert_exporter": "python",
   "pygments_lexer": "ipython3",
   "version": "3.6.3"
  }
 },
 "nbformat": 4,
 "nbformat_minor": 2
}

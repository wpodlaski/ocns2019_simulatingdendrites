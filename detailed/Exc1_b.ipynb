{
 "cells": [
  {
   "cell_type": "markdown",
   "metadata": {},
   "source": [
    "## OCNS 2019, Simulating dendrites at different levels of abstraction.\n",
    "## Exercise 1b: How inputs inputs interact on different branches.\n",
    "### In this exercise we will see how inputs integrate when they are located in different dendritic branches."
   ]
  },
  {
   "cell_type": "code",
   "execution_count": null,
   "metadata": {
    "collapsed": true
   },
   "outputs": [],
   "source": [
    "# -*- coding: utf-8 -*-\n",
    "from neuron import h, gui\n",
    "from matplotlib import pyplot as plt\n",
    "% matplotlib inline\n",
    "\n",
    "#Simulation parameters\t\n",
    "h.tstop = 100               # ms\n",
    "h.dt = 0.1                  # ms\n",
    "h.steps_per_ms = 10         # For plotting-should be compartible with dt\n",
    "h.v_init = -65              # initial membrane potential\n",
    "fs = 14                     # font size for plots"
   ]
  },
  {
   "cell_type": "markdown",
   "metadata": {},
   "source": [
    "### Create a soma and four dendrites, define their anatomical and biophysical properties and connect them."
   ]
  },
  {
   "cell_type": "code",
   "execution_count": null,
   "metadata": {
    "collapsed": false
   },
   "outputs": [],
   "source": [
    "# create five compartments using the command h.Section()\n",
    "soma=h.Section(name='soma')\n",
    "dend0, dend1, dend2,dend3 = [h.Section(name=n) for n in ['dend0', 'dend1', 'dend2', 'dend3']]\n",
    "\n",
    "# Define properties of soma\n",
    "soma.diam = 20        # um (micro-meter)\n",
    "soma.L = 200          # um\n",
    "soma.Ra = 100         # Axial resistance in Ohm * cm\n",
    "soma.cm = 1           # specific membrane capacitance, capacitance per unit of membrane, uF/cm^2   \n",
    "soma.nseg = 1         # number of segments (spatial grid)\n",
    "\n",
    "# Insert Hodgkin-Huxley channels (including leak)\n",
    "soma.insert('hh')\n",
    "for seg in soma: \n",
    "    seg.hh.gnabar = 0.05  # Sodium conductance in S/cm2\n",
    "    seg.hh.gkbar = 0.036  # Potassium conductance in S/cm2\n",
    "    seg.hh.gl = 0.0003    # Leak conductance in S/cm2\n",
    "    seg.hh.el = -65       # Reversal potential in mV\n",
    "\n",
    "# Define properties of dend0\n",
    "dend0.diam = 5\n",
    "dend0.L = 500\n",
    "dend0.nseg=11\n",
    "dend0.cm = 1\n",
    "dend0.Ra = 100\n",
    "\n",
    "dend0.insert('pas')      # Insert passive (leak) channels\n",
    "for seg in dend0:\n",
    "    seg.pas.e= -65\n",
    "    seg.pas.g= 0.0003\n",
    "\n",
    "# Define properties of dend1\n",
    "dend1.diam = 3\n",
    "dend1.L = 200\n",
    "dend1.nseg=13\n",
    "dend1.cm = 1\n",
    "dend1.Ra = 100\n",
    "\n",
    "dend1.insert('pas')      # Insert passive (leak) channels\n",
    "for seg in dend1:\n",
    "    seg.pas.e= -65\n",
    "    seg.pas.g= 0.0003\n",
    "    \n",
    "# Define properties of dend0\n",
    "dend2.diam = 5\n",
    "dend2.L = 500\n",
    "dend2.nseg=11\n",
    "dend2.cm = 1\n",
    "dend2.Ra = 100\n",
    "\n",
    "dend2.insert('pas')      # Insert passive (leak) channels\n",
    "for seg in dend2:\n",
    "    seg.pas.e= -65\n",
    "    seg.pas.g= 0.0003\n",
    "\n",
    "# Define properties of dend1\n",
    "dend3.diam = 3\n",
    "dend3.L = 200\n",
    "dend3.nseg=13\n",
    "dend3.cm = 1\n",
    "dend3.Ra = 100\n",
    "\n",
    "dend3.insert('pas')       # Insert passive (leak) channels\n",
    "for seg in dend3:\n",
    "    seg.pas.e= -65\n",
    "    seg.pas.g= 0.0003\n",
    "    \n",
    "# Connect the compartments together\n",
    "dend0.connect(soma(0),0)        # Connect the 0 point of dendrite 0 to the zero point of the soma\n",
    "dend1.connect(dend0(1),0)       # etc...\n",
    "dend2.connect(soma(1),0)  \n",
    "dend3.connect(dend2(1),0) "
   ]
  },
  {
   "cell_type": "markdown",
   "metadata": {},
   "source": [
    "### Task 2: Add one ExpSyn in the middle of dend1 and one in the middle of dend2. \n",
    "### Following exercise 1a, run and plot the somatic and dendritic response, and peak amplitudes. Activate only one of them. Is the response the linear sum?"
   ]
  },
  {
   "cell_type": "code",
   "execution_count": null,
   "metadata": {
    "collapsed": true
   },
   "outputs": [],
   "source": []
  }
 ],
 "metadata": {
  "anaconda-cloud": {},
  "kernelspec": {
   "display_name": "Python [Root]",
   "language": "python",
   "name": "Python [Root]"
  },
  "language_info": {
   "codemirror_mode": {
    "name": "ipython",
    "version": 2
   },
   "file_extension": ".py",
   "mimetype": "text/x-python",
   "name": "python",
   "nbconvert_exporter": "python",
   "pygments_lexer": "ipython2",
   "version": "2.7.6"
  }
 },
 "nbformat": 4,
 "nbformat_minor": 2
}
